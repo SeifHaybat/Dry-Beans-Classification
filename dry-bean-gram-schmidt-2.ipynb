{
 "cells": [
  {
   "cell_type": "code",
   "execution_count": 1,
   "id": "a014dbec",
   "metadata": {
    "_cell_guid": "b1076dfc-b9ad-4769-8c92-a6c4dae69d19",
    "_uuid": "8f2839f25d086af736a60e9eeb907d3b93b6e0e5",
    "execution": {
     "iopub.execute_input": "2021-09-30T00:31:07.919595Z",
     "iopub.status.busy": "2021-09-30T00:31:07.918829Z",
     "iopub.status.idle": "2021-09-30T00:31:07.927187Z",
     "shell.execute_reply": "2021-09-30T00:31:07.926284Z",
     "shell.execute_reply.started": "2021-09-30T00:13:34.160635Z"
    },
    "papermill": {
     "duration": 0.046754,
     "end_time": "2021-09-30T00:31:07.927389",
     "exception": false,
     "start_time": "2021-09-30T00:31:07.880635",
     "status": "completed"
    },
    "tags": []
   },
   "outputs": [
    {
     "name": "stdout",
     "output_type": "stream",
     "text": [
      "/kaggle/input/dry-beans-classification-iti-ai-pro-intake01/sample_submission.csv\n",
      "/kaggle/input/dry-beans-classification-iti-ai-pro-intake01/train.csv\n",
      "/kaggle/input/dry-beans-classification-iti-ai-pro-intake01/test.csv\n"
     ]
    }
   ],
   "source": [
    "# This Python 3 environment comes with many helpful analytics libraries installed\n",
    "# It is defined by the kaggle/python Docker image: https://github.com/kaggle/docker-python\n",
    "# For example, here's several helpful packages to load\n",
    "\n",
    "import numpy as np # linear algebra\n",
    "import pandas as pd # data processing, CSV file I/O (e.g. pd.read_csv)\n",
    "\n",
    "# Input data files are available in the read-only \"../input/\" directory\n",
    "# For example, running this (by clicking run or pressing Shift+Enter) will list all files under the input directory\n",
    "\n",
    "import os\n",
    "for dirname, _, filenames in os.walk('/kaggle/input'):\n",
    "    for filename in filenames:\n",
    "        print(os.path.join(dirname, filename))\n",
    "\n",
    "# You can write up to 20GB to the current directory (/kaggle/working/) that gets preserved as output when you create a version using \"Save & Run All\" \n",
    "# You can also write temporary files to /kaggle/temp/, but they won't be saved outside of the current session"
   ]
  },
  {
   "cell_type": "code",
   "execution_count": 2,
   "id": "0cce0faa",
   "metadata": {
    "execution": {
     "iopub.execute_input": "2021-09-30T00:31:07.982628Z",
     "iopub.status.busy": "2021-09-30T00:31:07.981901Z",
     "iopub.status.idle": "2021-09-30T00:31:09.254429Z",
     "shell.execute_reply": "2021-09-30T00:31:09.253836Z",
     "shell.execute_reply.started": "2021-09-30T00:13:34.178893Z"
    },
    "papermill": {
     "duration": 1.302304,
     "end_time": "2021-09-30T00:31:09.254616",
     "exception": false,
     "start_time": "2021-09-30T00:31:07.952312",
     "status": "completed"
    },
    "tags": []
   },
   "outputs": [],
   "source": [
    "import numpy as np \n",
    "import pandas as pd\n",
    "import matplotlib.pyplot as plt\n",
    "import seaborn as sns\n",
    "from sklearn import metrics"
   ]
  },
  {
   "cell_type": "code",
   "execution_count": 3,
   "id": "197f62f7",
   "metadata": {
    "execution": {
     "iopub.execute_input": "2021-09-30T00:31:09.306557Z",
     "iopub.status.busy": "2021-09-30T00:31:09.305637Z",
     "iopub.status.idle": "2021-09-30T00:31:09.450282Z",
     "shell.execute_reply": "2021-09-30T00:31:09.449375Z",
     "shell.execute_reply.started": "2021-09-30T00:13:34.584522Z"
    },
    "papermill": {
     "duration": 0.173441,
     "end_time": "2021-09-30T00:31:09.450526",
     "exception": false,
     "start_time": "2021-09-30T00:31:09.277085",
     "status": "completed"
    },
    "tags": []
   },
   "outputs": [
    {
     "data": {
      "text/html": [
       "<div>\n",
       "<style scoped>\n",
       "    .dataframe tbody tr th:only-of-type {\n",
       "        vertical-align: middle;\n",
       "    }\n",
       "\n",
       "    .dataframe tbody tr th {\n",
       "        vertical-align: top;\n",
       "    }\n",
       "\n",
       "    .dataframe thead th {\n",
       "        text-align: right;\n",
       "    }\n",
       "</style>\n",
       "<table border=\"1\" class=\"dataframe\">\n",
       "  <thead>\n",
       "    <tr style=\"text-align: right;\">\n",
       "      <th></th>\n",
       "      <th>Area</th>\n",
       "      <th>Perimeter</th>\n",
       "      <th>MajorAxisLength</th>\n",
       "      <th>MinorAxisLength</th>\n",
       "      <th>AspectRation</th>\n",
       "      <th>Eccentricity</th>\n",
       "      <th>ConvexArea</th>\n",
       "      <th>EquivDiameter</th>\n",
       "      <th>Extent</th>\n",
       "      <th>Solidity</th>\n",
       "      <th>roundness</th>\n",
       "      <th>Compactness</th>\n",
       "      <th>ShapeFactor1</th>\n",
       "      <th>ShapeFactor2</th>\n",
       "      <th>ShapeFactor3</th>\n",
       "      <th>ShapeFactor4</th>\n",
       "      <th>y</th>\n",
       "    </tr>\n",
       "    <tr>\n",
       "      <th>ID</th>\n",
       "      <th></th>\n",
       "      <th></th>\n",
       "      <th></th>\n",
       "      <th></th>\n",
       "      <th></th>\n",
       "      <th></th>\n",
       "      <th></th>\n",
       "      <th></th>\n",
       "      <th></th>\n",
       "      <th></th>\n",
       "      <th></th>\n",
       "      <th></th>\n",
       "      <th></th>\n",
       "      <th></th>\n",
       "      <th></th>\n",
       "      <th></th>\n",
       "      <th></th>\n",
       "    </tr>\n",
       "  </thead>\n",
       "  <tbody>\n",
       "    <tr>\n",
       "      <th>0</th>\n",
       "      <td>58238</td>\n",
       "      <td>971.303</td>\n",
       "      <td>397.202654</td>\n",
       "      <td>186.945510</td>\n",
       "      <td>2.124697</td>\n",
       "      <td>0.882317</td>\n",
       "      <td>58977</td>\n",
       "      <td>272.306674</td>\n",
       "      <td>0.604756</td>\n",
       "      <td>0.987470</td>\n",
       "      <td>0.775723</td>\n",
       "      <td>0.685561</td>\n",
       "      <td>0.006820</td>\n",
       "      <td>0.000929</td>\n",
       "      <td>0.469994</td>\n",
       "      <td>0.998595</td>\n",
       "      <td>HOROZ</td>\n",
       "    </tr>\n",
       "    <tr>\n",
       "      <th>1</th>\n",
       "      <td>44515</td>\n",
       "      <td>757.601</td>\n",
       "      <td>265.590470</td>\n",
       "      <td>213.967453</td>\n",
       "      <td>1.241266</td>\n",
       "      <td>0.592420</td>\n",
       "      <td>44780</td>\n",
       "      <td>238.071960</td>\n",
       "      <td>0.771745</td>\n",
       "      <td>0.994082</td>\n",
       "      <td>0.974620</td>\n",
       "      <td>0.896387</td>\n",
       "      <td>0.005966</td>\n",
       "      <td>0.002376</td>\n",
       "      <td>0.803510</td>\n",
       "      <td>0.997370</td>\n",
       "      <td>SEKER</td>\n",
       "    </tr>\n",
       "    <tr>\n",
       "      <th>2</th>\n",
       "      <td>31662</td>\n",
       "      <td>653.783</td>\n",
       "      <td>239.902428</td>\n",
       "      <td>168.421505</td>\n",
       "      <td>1.424417</td>\n",
       "      <td>0.712136</td>\n",
       "      <td>32034</td>\n",
       "      <td>200.781748</td>\n",
       "      <td>0.801407</td>\n",
       "      <td>0.988387</td>\n",
       "      <td>0.930853</td>\n",
       "      <td>0.836931</td>\n",
       "      <td>0.007577</td>\n",
       "      <td>0.002293</td>\n",
       "      <td>0.700453</td>\n",
       "      <td>0.997737</td>\n",
       "      <td>DERMASON</td>\n",
       "    </tr>\n",
       "    <tr>\n",
       "      <th>3</th>\n",
       "      <td>38778</td>\n",
       "      <td>734.020</td>\n",
       "      <td>268.446281</td>\n",
       "      <td>184.061923</td>\n",
       "      <td>1.458456</td>\n",
       "      <td>0.727925</td>\n",
       "      <td>39208</td>\n",
       "      <td>222.201897</td>\n",
       "      <td>0.766137</td>\n",
       "      <td>0.989033</td>\n",
       "      <td>0.904439</td>\n",
       "      <td>0.827733</td>\n",
       "      <td>0.006923</td>\n",
       "      <td>0.002005</td>\n",
       "      <td>0.685142</td>\n",
       "      <td>0.999250</td>\n",
       "      <td>DERMASON</td>\n",
       "    </tr>\n",
       "    <tr>\n",
       "      <th>4</th>\n",
       "      <td>42530</td>\n",
       "      <td>775.403</td>\n",
       "      <td>281.212824</td>\n",
       "      <td>193.236878</td>\n",
       "      <td>1.455275</td>\n",
       "      <td>0.726511</td>\n",
       "      <td>43028</td>\n",
       "      <td>232.703412</td>\n",
       "      <td>0.729816</td>\n",
       "      <td>0.988426</td>\n",
       "      <td>0.888895</td>\n",
       "      <td>0.827499</td>\n",
       "      <td>0.006612</td>\n",
       "      <td>0.001912</td>\n",
       "      <td>0.684755</td>\n",
       "      <td>0.996507</td>\n",
       "      <td>SIRA</td>\n",
       "    </tr>\n",
       "  </tbody>\n",
       "</table>\n",
       "</div>"
      ],
      "text/plain": [
       "     Area  Perimeter  MajorAxisLength  MinorAxisLength  AspectRation  \\\n",
       "ID                                                                     \n",
       "0   58238    971.303       397.202654       186.945510      2.124697   \n",
       "1   44515    757.601       265.590470       213.967453      1.241266   \n",
       "2   31662    653.783       239.902428       168.421505      1.424417   \n",
       "3   38778    734.020       268.446281       184.061923      1.458456   \n",
       "4   42530    775.403       281.212824       193.236878      1.455275   \n",
       "\n",
       "    Eccentricity  ConvexArea  EquivDiameter    Extent  Solidity  roundness  \\\n",
       "ID                                                                           \n",
       "0       0.882317       58977     272.306674  0.604756  0.987470   0.775723   \n",
       "1       0.592420       44780     238.071960  0.771745  0.994082   0.974620   \n",
       "2       0.712136       32034     200.781748  0.801407  0.988387   0.930853   \n",
       "3       0.727925       39208     222.201897  0.766137  0.989033   0.904439   \n",
       "4       0.726511       43028     232.703412  0.729816  0.988426   0.888895   \n",
       "\n",
       "    Compactness  ShapeFactor1  ShapeFactor2  ShapeFactor3  ShapeFactor4  \\\n",
       "ID                                                                        \n",
       "0      0.685561      0.006820      0.000929      0.469994      0.998595   \n",
       "1      0.896387      0.005966      0.002376      0.803510      0.997370   \n",
       "2      0.836931      0.007577      0.002293      0.700453      0.997737   \n",
       "3      0.827733      0.006923      0.002005      0.685142      0.999250   \n",
       "4      0.827499      0.006612      0.001912      0.684755      0.996507   \n",
       "\n",
       "           y  \n",
       "ID            \n",
       "0      HOROZ  \n",
       "1      SEKER  \n",
       "2   DERMASON  \n",
       "3   DERMASON  \n",
       "4       SIRA  "
      ]
     },
     "execution_count": 3,
     "metadata": {},
     "output_type": "execute_result"
    }
   ],
   "source": [
    "df_train = pd.read_csv(\"/kaggle/input/dry-beans-classification-iti-ai-pro-intake01/train.csv\",index_col='ID')\n",
    "df_train.head()"
   ]
  },
  {
   "cell_type": "code",
   "execution_count": 4,
   "id": "089ae06a",
   "metadata": {
    "execution": {
     "iopub.execute_input": "2021-09-30T00:31:09.505647Z",
     "iopub.status.busy": "2021-09-30T00:31:09.504676Z",
     "iopub.status.idle": "2021-09-30T00:31:09.507540Z",
     "shell.execute_reply": "2021-09-30T00:31:09.507009Z",
     "shell.execute_reply.started": "2021-09-30T00:13:34.662874Z"
    },
    "papermill": {
     "duration": 0.032731,
     "end_time": "2021-09-30T00:31:09.507699",
     "exception": false,
     "start_time": "2021-09-30T00:31:09.474968",
     "status": "completed"
    },
    "tags": []
   },
   "outputs": [],
   "source": [
    "low_corr_col = ['Area' , 'AspectRation' , 'Extent' , 'Solidity' , 'roundness', 'ShapeFactor4']"
   ]
  },
  {
   "cell_type": "code",
   "execution_count": 5,
   "id": "696ef4e5",
   "metadata": {
    "execution": {
     "iopub.execute_input": "2021-09-30T00:31:09.562073Z",
     "iopub.status.busy": "2021-09-30T00:31:09.561338Z",
     "iopub.status.idle": "2021-09-30T00:31:09.611410Z",
     "shell.execute_reply": "2021-09-30T00:31:09.610619Z",
     "shell.execute_reply.started": "2021-09-30T00:13:34.670245Z"
    },
    "papermill": {
     "duration": 0.079748,
     "end_time": "2021-09-30T00:31:09.611614",
     "exception": false,
     "start_time": "2021-09-30T00:31:09.531866",
     "status": "completed"
    },
    "tags": []
   },
   "outputs": [
    {
     "name": "stdout",
     "output_type": "stream",
     "text": [
      "<class 'pandas.core.frame.DataFrame'>\n",
      "Int64Index: 2709 entries, 10834 to 13542\n",
      "Data columns (total 16 columns):\n",
      " #   Column           Non-Null Count  Dtype  \n",
      "---  ------           --------------  -----  \n",
      " 0   Area             2709 non-null   int64  \n",
      " 1   Perimeter        2709 non-null   float64\n",
      " 2   MajorAxisLength  2709 non-null   float64\n",
      " 3   MinorAxisLength  2709 non-null   float64\n",
      " 4   AspectRation     2709 non-null   float64\n",
      " 5   Eccentricity     2709 non-null   float64\n",
      " 6   ConvexArea       2709 non-null   int64  \n",
      " 7   EquivDiameter    2709 non-null   float64\n",
      " 8   Extent           2709 non-null   float64\n",
      " 9   Solidity         2709 non-null   float64\n",
      " 10  roundness        2709 non-null   float64\n",
      " 11  Compactness      2709 non-null   float64\n",
      " 12  ShapeFactor1     2709 non-null   float64\n",
      " 13  ShapeFactor2     2709 non-null   float64\n",
      " 14  ShapeFactor3     2709 non-null   float64\n",
      " 15  ShapeFactor4     2709 non-null   float64\n",
      "dtypes: float64(14), int64(2)\n",
      "memory usage: 359.8 KB\n"
     ]
    }
   ],
   "source": [
    "df_test = pd.read_csv(\"/kaggle/input/dry-beans-classification-iti-ai-pro-intake01/test.csv\",index_col='ID')\n",
    "df_test.info()"
   ]
  },
  {
   "cell_type": "code",
   "execution_count": 6,
   "id": "4ebb5850",
   "metadata": {
    "execution": {
     "iopub.execute_input": "2021-09-30T00:31:09.676521Z",
     "iopub.status.busy": "2021-09-30T00:31:09.675014Z",
     "iopub.status.idle": "2021-09-30T00:31:09.686740Z",
     "shell.execute_reply": "2021-09-30T00:31:09.685908Z",
     "shell.execute_reply.started": "2021-09-30T00:13:34.708188Z"
    },
    "papermill": {
     "duration": 0.051038,
     "end_time": "2021-09-30T00:31:09.686943",
     "exception": false,
     "start_time": "2021-09-30T00:31:09.635905",
     "status": "completed"
    },
    "tags": []
   },
   "outputs": [
    {
     "data": {
      "text/plain": [
       "StandardScaler()"
      ]
     },
     "execution_count": 6,
     "metadata": {},
     "output_type": "execute_result"
    }
   ],
   "source": [
    "from sklearn.preprocessing import StandardScaler\n",
    "scaler = StandardScaler()\n",
    "scaler.fit(df_train[low_corr_col])\n"
   ]
  },
  {
   "cell_type": "code",
   "execution_count": 7,
   "id": "cb5d54cb",
   "metadata": {
    "execution": {
     "iopub.execute_input": "2021-09-30T00:31:09.741930Z",
     "iopub.status.busy": "2021-09-30T00:31:09.741104Z",
     "iopub.status.idle": "2021-09-30T00:31:09.749745Z",
     "shell.execute_reply": "2021-09-30T00:31:09.749063Z",
     "shell.execute_reply.started": "2021-09-30T00:13:34.720723Z"
    },
    "papermill": {
     "duration": 0.03775,
     "end_time": "2021-09-30T00:31:09.749946",
     "exception": false,
     "start_time": "2021-09-30T00:31:09.712196",
     "status": "completed"
    },
    "tags": []
   },
   "outputs": [],
   "source": [
    "def scaling(dataset):\n",
    "    df_num = dataset[low_corr_col]\n",
    "    df_numerical = scaler.transform(df_num)\n",
    "\n",
    "    df_num = pd.DataFrame(df_numerical,columns=df_num.columns,index=dataset.index)\n",
    "\n",
    "    dataset.drop(columns=low_corr_col,inplace=True)\n",
    "    return pd.concat([dataset,df_num],axis=1)\n",
    "def gs(X):\n",
    "    Q, R = np.linalg.qr(X)\n",
    "    return Q"
   ]
  },
  {
   "cell_type": "code",
   "execution_count": 8,
   "id": "9ae0df25",
   "metadata": {
    "execution": {
     "iopub.execute_input": "2021-09-30T00:31:09.809054Z",
     "iopub.status.busy": "2021-09-30T00:31:09.808127Z",
     "iopub.status.idle": "2021-09-30T00:31:09.839272Z",
     "shell.execute_reply": "2021-09-30T00:31:09.839819Z",
     "shell.execute_reply.started": "2021-09-30T00:13:34.729677Z"
    },
    "papermill": {
     "duration": 0.065059,
     "end_time": "2021-09-30T00:31:09.840023",
     "exception": false,
     "start_time": "2021-09-30T00:31:09.774964",
     "status": "completed"
    },
    "tags": []
   },
   "outputs": [
    {
     "data": {
      "text/html": [
       "<div>\n",
       "<style scoped>\n",
       "    .dataframe tbody tr th:only-of-type {\n",
       "        vertical-align: middle;\n",
       "    }\n",
       "\n",
       "    .dataframe tbody tr th {\n",
       "        vertical-align: top;\n",
       "    }\n",
       "\n",
       "    .dataframe thead th {\n",
       "        text-align: right;\n",
       "    }\n",
       "</style>\n",
       "<table border=\"1\" class=\"dataframe\">\n",
       "  <thead>\n",
       "    <tr style=\"text-align: right;\">\n",
       "      <th></th>\n",
       "      <th>Perimeter</th>\n",
       "      <th>MajorAxisLength</th>\n",
       "      <th>MinorAxisLength</th>\n",
       "      <th>Eccentricity</th>\n",
       "      <th>ConvexArea</th>\n",
       "      <th>EquivDiameter</th>\n",
       "      <th>Compactness</th>\n",
       "      <th>ShapeFactor1</th>\n",
       "      <th>ShapeFactor2</th>\n",
       "      <th>ShapeFactor3</th>\n",
       "      <th>y</th>\n",
       "      <th>Area</th>\n",
       "      <th>AspectRation</th>\n",
       "      <th>Extent</th>\n",
       "      <th>Solidity</th>\n",
       "      <th>roundness</th>\n",
       "      <th>ShapeFactor4</th>\n",
       "    </tr>\n",
       "    <tr>\n",
       "      <th>ID</th>\n",
       "      <th></th>\n",
       "      <th></th>\n",
       "      <th></th>\n",
       "      <th></th>\n",
       "      <th></th>\n",
       "      <th></th>\n",
       "      <th></th>\n",
       "      <th></th>\n",
       "      <th></th>\n",
       "      <th></th>\n",
       "      <th></th>\n",
       "      <th></th>\n",
       "      <th></th>\n",
       "      <th></th>\n",
       "      <th></th>\n",
       "      <th></th>\n",
       "      <th></th>\n",
       "    </tr>\n",
       "  </thead>\n",
       "  <tbody>\n",
       "    <tr>\n",
       "      <th>0</th>\n",
       "      <td>971.303</td>\n",
       "      <td>397.202654</td>\n",
       "      <td>186.945510</td>\n",
       "      <td>0.882317</td>\n",
       "      <td>58977</td>\n",
       "      <td>272.306674</td>\n",
       "      <td>0.685561</td>\n",
       "      <td>0.006820</td>\n",
       "      <td>0.000929</td>\n",
       "      <td>0.469994</td>\n",
       "      <td>HOROZ</td>\n",
       "      <td>0.174073</td>\n",
       "      <td>2.224308</td>\n",
       "      <td>-2.966134</td>\n",
       "      <td>0.068758</td>\n",
       "      <td>-1.650182</td>\n",
       "      <td>0.815760</td>\n",
       "    </tr>\n",
       "    <tr>\n",
       "      <th>1</th>\n",
       "      <td>757.601</td>\n",
       "      <td>265.590470</td>\n",
       "      <td>213.967453</td>\n",
       "      <td>0.592420</td>\n",
       "      <td>44780</td>\n",
       "      <td>238.071960</td>\n",
       "      <td>0.896387</td>\n",
       "      <td>0.005966</td>\n",
       "      <td>0.002376</td>\n",
       "      <td>0.803510</td>\n",
       "      <td>SEKER</td>\n",
       "      <td>-0.290465</td>\n",
       "      <td>-1.391835</td>\n",
       "      <td>0.445540</td>\n",
       "      <td>1.498190</td>\n",
       "      <td>1.701569</td>\n",
       "      <td>0.531237</td>\n",
       "    </tr>\n",
       "    <tr>\n",
       "      <th>2</th>\n",
       "      <td>653.783</td>\n",
       "      <td>239.902428</td>\n",
       "      <td>168.421505</td>\n",
       "      <td>0.712136</td>\n",
       "      <td>32034</td>\n",
       "      <td>200.781748</td>\n",
       "      <td>0.836931</td>\n",
       "      <td>0.007577</td>\n",
       "      <td>0.002293</td>\n",
       "      <td>0.700453</td>\n",
       "      <td>DERMASON</td>\n",
       "      <td>-0.725552</td>\n",
       "      <td>-0.642144</td>\n",
       "      <td>1.051566</td>\n",
       "      <td>0.267127</td>\n",
       "      <td>0.964020</td>\n",
       "      <td>0.616586</td>\n",
       "    </tr>\n",
       "    <tr>\n",
       "      <th>3</th>\n",
       "      <td>734.020</td>\n",
       "      <td>268.446281</td>\n",
       "      <td>184.061923</td>\n",
       "      <td>0.727925</td>\n",
       "      <td>39208</td>\n",
       "      <td>222.201897</td>\n",
       "      <td>0.827733</td>\n",
       "      <td>0.006923</td>\n",
       "      <td>0.002005</td>\n",
       "      <td>0.685142</td>\n",
       "      <td>DERMASON</td>\n",
       "      <td>-0.484668</td>\n",
       "      <td>-0.502811</td>\n",
       "      <td>0.330964</td>\n",
       "      <td>0.406669</td>\n",
       "      <td>0.518910</td>\n",
       "      <td>0.967898</td>\n",
       "    </tr>\n",
       "    <tr>\n",
       "      <th>4</th>\n",
       "      <td>775.403</td>\n",
       "      <td>281.212824</td>\n",
       "      <td>193.236878</td>\n",
       "      <td>0.726511</td>\n",
       "      <td>43028</td>\n",
       "      <td>232.703412</td>\n",
       "      <td>0.827499</td>\n",
       "      <td>0.006612</td>\n",
       "      <td>0.001912</td>\n",
       "      <td>0.684755</td>\n",
       "      <td>SIRA</td>\n",
       "      <td>-0.357659</td>\n",
       "      <td>-0.515832</td>\n",
       "      <td>-0.411095</td>\n",
       "      <td>0.275515</td>\n",
       "      <td>0.256953</td>\n",
       "      <td>0.330810</td>\n",
       "    </tr>\n",
       "  </tbody>\n",
       "</table>\n",
       "</div>"
      ],
      "text/plain": [
       "    Perimeter  MajorAxisLength  MinorAxisLength  Eccentricity  ConvexArea  \\\n",
       "ID                                                                          \n",
       "0     971.303       397.202654       186.945510      0.882317       58977   \n",
       "1     757.601       265.590470       213.967453      0.592420       44780   \n",
       "2     653.783       239.902428       168.421505      0.712136       32034   \n",
       "3     734.020       268.446281       184.061923      0.727925       39208   \n",
       "4     775.403       281.212824       193.236878      0.726511       43028   \n",
       "\n",
       "    EquivDiameter  Compactness  ShapeFactor1  ShapeFactor2  ShapeFactor3  \\\n",
       "ID                                                                         \n",
       "0      272.306674     0.685561      0.006820      0.000929      0.469994   \n",
       "1      238.071960     0.896387      0.005966      0.002376      0.803510   \n",
       "2      200.781748     0.836931      0.007577      0.002293      0.700453   \n",
       "3      222.201897     0.827733      0.006923      0.002005      0.685142   \n",
       "4      232.703412     0.827499      0.006612      0.001912      0.684755   \n",
       "\n",
       "           y      Area  AspectRation    Extent  Solidity  roundness  \\\n",
       "ID                                                                    \n",
       "0      HOROZ  0.174073      2.224308 -2.966134  0.068758  -1.650182   \n",
       "1      SEKER -0.290465     -1.391835  0.445540  1.498190   1.701569   \n",
       "2   DERMASON -0.725552     -0.642144  1.051566  0.267127   0.964020   \n",
       "3   DERMASON -0.484668     -0.502811  0.330964  0.406669   0.518910   \n",
       "4       SIRA -0.357659     -0.515832 -0.411095  0.275515   0.256953   \n",
       "\n",
       "    ShapeFactor4  \n",
       "ID                \n",
       "0       0.815760  \n",
       "1       0.531237  \n",
       "2       0.616586  \n",
       "3       0.967898  \n",
       "4       0.330810  "
      ]
     },
     "execution_count": 8,
     "metadata": {},
     "output_type": "execute_result"
    }
   ],
   "source": [
    "processed_df_train = scaling(df_train)\n",
    "processed_df_test = scaling(df_test)\n",
    "processed_df_train.head()"
   ]
  },
  {
   "cell_type": "code",
   "execution_count": 9,
   "id": "d9d920a9",
   "metadata": {
    "execution": {
     "iopub.execute_input": "2021-09-30T00:31:09.895669Z",
     "iopub.status.busy": "2021-09-30T00:31:09.894830Z",
     "iopub.status.idle": "2021-09-30T00:31:09.954965Z",
     "shell.execute_reply": "2021-09-30T00:31:09.954055Z",
     "shell.execute_reply.started": "2021-09-30T00:13:34.772299Z"
    },
    "papermill": {
     "duration": 0.089578,
     "end_time": "2021-09-30T00:31:09.955158",
     "exception": false,
     "start_time": "2021-09-30T00:31:09.865580",
     "status": "completed"
    },
    "tags": []
   },
   "outputs": [],
   "source": [
    "from sklearn.model_selection import train_test_split\n",
    "\n",
    "X = processed_df_train.drop(columns=['y'])[low_corr_col]\n",
    "y = processed_df_train.y\n",
    "X_train, X_valid, y_train, y_valid = train_test_split(X, y, test_size=0.2, random_state=42, stratify=y)"
   ]
  },
  {
   "cell_type": "code",
   "execution_count": 10,
   "id": "5ed43eb5",
   "metadata": {
    "execution": {
     "iopub.execute_input": "2021-09-30T00:31:10.012600Z",
     "iopub.status.busy": "2021-09-30T00:31:10.011359Z",
     "iopub.status.idle": "2021-09-30T00:31:11.186067Z",
     "shell.execute_reply": "2021-09-30T00:31:11.186691Z",
     "shell.execute_reply.started": "2021-09-30T00:13:34.814937Z"
    },
    "papermill": {
     "duration": 1.205657,
     "end_time": "2021-09-30T00:31:11.186921",
     "exception": false,
     "start_time": "2021-09-30T00:31:09.981264",
     "status": "completed"
    },
    "tags": []
   },
   "outputs": [
    {
     "name": "stdout",
     "output_type": "stream",
     "text": [
      "Validation set accuracy: 0.94\n",
      "F1 Score  0.9476762306297211\n"
     ]
    }
   ],
   "source": [
    "# Support Vector Machines\n",
    "from sklearn.metrics import f1_score\n",
    "from sklearn.svm import SVC\n",
    "\n",
    "svc = SVC()\n",
    "svc.fit(X_train, y_train)\n",
    "y_pred = svc.predict(X_valid)\n",
    "\n",
    "acc_svc = svc.score(X_valid, y_valid)\n",
    "f1_svc = f1_score(y_valid, y_pred,average='macro')\n",
    "\n",
    "print('Validation set accuracy: {:2.2}'.format(acc_svc))\n",
    "print('F1 Score ',f1_svc)"
   ]
  },
  {
   "cell_type": "code",
   "execution_count": 11,
   "id": "b6a7225f",
   "metadata": {
    "execution": {
     "iopub.execute_input": "2021-09-30T00:31:11.241158Z",
     "iopub.status.busy": "2021-09-30T00:31:11.240084Z",
     "iopub.status.idle": "2021-09-30T00:31:13.409190Z",
     "shell.execute_reply": "2021-09-30T00:31:13.409997Z",
     "shell.execute_reply.started": "2021-09-30T00:13:35.882863Z"
    },
    "papermill": {
     "duration": 2.198572,
     "end_time": "2021-09-30T00:31:13.410303",
     "exception": false,
     "start_time": "2021-09-30T00:31:11.211731",
     "status": "completed"
    },
    "tags": []
   },
   "outputs": [
    {
     "name": "stdout",
     "output_type": "stream",
     "text": [
      "Validation set accuracy: 0.93\n",
      "F1 Score  0.9426249905946454\n"
     ]
    }
   ],
   "source": [
    "# Random Forest\n",
    "from sklearn.ensemble import RandomForestClassifier\n",
    "\n",
    "random_forest = RandomForestClassifier()\n",
    "random_forest.fit(X_train, y_train)\n",
    "y_pred = random_forest.predict(X_valid)\n",
    "\n",
    "acc_random_forest = random_forest.score(X_valid, y_valid)\n",
    "f1_random_forest = f1_score(y_valid, y_pred,average='macro')\n",
    "\n",
    "print('Validation set accuracy: {:2.2}'.format(acc_random_forest))\n",
    "print('F1 Score ',f1_random_forest)"
   ]
  },
  {
   "cell_type": "code",
   "execution_count": 12,
   "id": "ad7f8cda",
   "metadata": {
    "execution": {
     "iopub.execute_input": "2021-09-30T00:31:13.469210Z",
     "iopub.status.busy": "2021-09-30T00:31:13.468093Z",
     "iopub.status.idle": "2021-09-30T00:31:14.228573Z",
     "shell.execute_reply": "2021-09-30T00:31:14.229165Z",
     "shell.execute_reply.started": "2021-09-30T00:13:37.902866Z"
    },
    "papermill": {
     "duration": 0.791994,
     "end_time": "2021-09-30T00:31:14.229382",
     "exception": false,
     "start_time": "2021-09-30T00:31:13.437388",
     "status": "completed"
    },
    "tags": []
   },
   "outputs": [
    {
     "data": {
      "text/plain": [
       "Text(0.5, 1.0, 'features_correlation')"
      ]
     },
     "execution_count": 12,
     "metadata": {},
     "output_type": "execute_result"
    },
    {
     "data": {
      "image/png": "[encoded data removed]",
      "text/plain": [
       "<Figure size 576x576 with 2 Axes>"
      ]
     },
     "metadata": {
      "needs_background": "light"
     },
     "output_type": "display_data"
    }
   ],
   "source": [
    "plt.figure(figsize=(8,8))\n",
    "sns.heatmap(X.corr(),annot=True)\n",
    "plt.title(\"features_correlation\",size=20)"
   ]
  },
  {
   "cell_type": "code",
   "execution_count": 13,
   "id": "74d3edaf",
   "metadata": {
    "execution": {
     "iopub.execute_input": "2021-09-30T00:31:14.300953Z",
     "iopub.status.busy": "2021-09-30T00:31:14.300194Z",
     "iopub.status.idle": "2021-09-30T00:31:14.332227Z",
     "shell.execute_reply": "2021-09-30T00:31:14.332814Z",
     "shell.execute_reply.started": "2021-09-30T00:13:38.524244Z"
    },
    "papermill": {
     "duration": 0.076108,
     "end_time": "2021-09-30T00:31:14.333025",
     "exception": false,
     "start_time": "2021-09-30T00:31:14.256917",
     "status": "completed"
    },
    "tags": []
   },
   "outputs": [],
   "source": [
    "col=X.columns\n",
    "X_=X.to_numpy()\n",
    "X_=pd.DataFrame(gs(X_),columns=col)\n",
    "X_train_ortho, X_valid_ortho, y_train_ortho, y_valid_ortho = train_test_split(X_, y, test_size=0.2, random_state=42, stratify=y)"
   ]
  },
  {
   "cell_type": "code",
   "execution_count": 14,
   "id": "0249188b",
   "metadata": {
    "execution": {
     "iopub.execute_input": "2021-09-30T00:31:14.395591Z",
     "iopub.status.busy": "2021-09-30T00:31:14.394534Z",
     "iopub.status.idle": "2021-09-30T00:31:14.867236Z",
     "shell.execute_reply": "2021-09-30T00:31:14.867773Z",
     "shell.execute_reply.started": "2021-09-30T00:13:38.558555Z"
    },
    "papermill": {
     "duration": 0.507694,
     "end_time": "2021-09-30T00:31:14.868020",
     "exception": false,
     "start_time": "2021-09-30T00:31:14.360326",
     "status": "completed"
    },
    "tags": []
   },
   "outputs": [
    {
     "data": {
      "text/plain": [
       "Text(0.5, 1.0, 'features_correlation')"
      ]
     },
     "execution_count": 14,
     "metadata": {},
     "output_type": "execute_result"
    },
    {
     "data": {
      "image/png": "[encoded data removed]",
      "text/plain": [
       "<Figure size 576x576 with 2 Axes>"
      ]
     },
     "metadata": {
      "needs_background": "light"
     },
     "output_type": "display_data"
    }
   ],
   "source": [
    "plt.figure(figsize=(8,8))\n",
    "sns.heatmap(X_.corr(),annot=True)\n",
    "plt.title(\"features_correlation\",size=20)"
   ]
  },
  {
   "cell_type": "code",
   "execution_count": 15,
   "id": "529edb21",
   "metadata": {
    "execution": {
     "iopub.execute_input": "2021-09-30T00:31:14.934249Z",
     "iopub.status.busy": "2021-09-30T00:31:14.933349Z",
     "iopub.status.idle": "2021-09-30T00:31:14.936602Z",
     "shell.execute_reply": "2021-09-30T00:31:14.936035Z",
     "shell.execute_reply.started": "2021-09-30T00:13:39.014069Z"
    },
    "papermill": {
     "duration": 0.039404,
     "end_time": "2021-09-30T00:31:14.936757",
     "exception": false,
     "start_time": "2021-09-30T00:31:14.897353",
     "status": "completed"
    },
    "tags": []
   },
   "outputs": [],
   "source": [
    "params = {\n",
    "        'min_child_weight': [1, 5, 10],\n",
    "        'gamma': [0.5, 1, 1.5, 2, 5],\n",
    "        'subsample': [0.6, 0.8, 1.0],\n",
    "        'colsample_bytree': [0.6, 0.8, 1.0],\n",
    "        'max_depth': [3, 4, 5,6]\n",
    "        }"
   ]
  },
  {
   "cell_type": "code",
   "execution_count": 16,
   "id": "c37bbdfb",
   "metadata": {
    "execution": {
     "iopub.execute_input": "2021-09-30T00:31:15.005012Z",
     "iopub.status.busy": "2021-09-30T00:31:15.004257Z",
     "iopub.status.idle": "2021-09-30T00:31:15.105424Z",
     "shell.execute_reply": "2021-09-30T00:31:15.104759Z",
     "shell.execute_reply.started": "2021-09-30T00:13:39.021879Z"
    },
    "papermill": {
     "duration": 0.140056,
     "end_time": "2021-09-30T00:31:15.105613",
     "exception": false,
     "start_time": "2021-09-30T00:31:14.965557",
     "status": "completed"
    },
    "tags": []
   },
   "outputs": [],
   "source": [
    "from sklearn.model_selection import RandomizedSearchCV, GridSearchCV\n",
    "from sklearn.metrics import roc_auc_score\n",
    "from sklearn.model_selection import StratifiedKFold\n",
    "from xgboost import XGBClassifier\n",
    "xgb = XGBClassifier(learning_rate=0.02, n_estimators=600, objective='binary:logistic',\n",
    "                    silent=True, nthread=1)\n",
    "folds = 4\n",
    "param_comb = 5\n",
    "\n",
    "skf = StratifiedKFold(n_splits=folds, shuffle = True, random_state = 1001)\n",
    "\n",
    "random_search = RandomizedSearchCV(xgb, param_distributions=params, n_iter=param_comb, scoring='f1_micro', n_jobs=4, cv=skf, verbose=3, random_state=1001 )"
   ]
  },
  {
   "cell_type": "code",
   "execution_count": 17,
   "id": "422f0b16",
   "metadata": {
    "execution": {
     "iopub.execute_input": "2021-09-30T00:31:15.172520Z",
     "iopub.status.busy": "2021-09-30T00:31:15.170929Z",
     "iopub.status.idle": "2021-09-30T00:34:33.054774Z",
     "shell.execute_reply": "2021-09-30T00:34:33.055359Z",
     "shell.execute_reply.started": "2021-09-30T00:13:39.053154Z"
    },
    "papermill": {
     "duration": 197.920706,
     "end_time": "2021-09-30T00:34:33.055631",
     "exception": false,
     "start_time": "2021-09-30T00:31:15.134925",
     "status": "completed"
    },
    "tags": []
   },
   "outputs": [
    {
     "name": "stdout",
     "output_type": "stream",
     "text": [
      "Fitting 4 folds for each of 5 candidates, totalling 20 fits\n"
     ]
    },
    {
     "name": "stderr",
     "output_type": "stream",
     "text": [
      "[Parallel(n_jobs=4)]: Using backend LokyBackend with 4 concurrent workers.\n",
      "[Parallel(n_jobs=4)]: Done  20 out of  20 | elapsed:  2.9min remaining:    0.0s\n",
      "[Parallel(n_jobs=4)]: Done  20 out of  20 | elapsed:  2.9min finished\n",
      "/opt/conda/lib/python3.7/site-packages/xgboost/sklearn.py:1146: UserWarning: The use of label encoder in XGBClassifier is deprecated and will be removed in a future release. To remove this warning, do the following: 1) Pass option use_label_encoder=False when constructing XGBClassifier object; and 2) Encode your labels (y) as integers starting with 0, i.e. 0, 1, 2, ..., [num_class - 1].\n",
      "  warnings.warn(label_encoder_deprecation_msg, UserWarning)\n"
     ]
    },
    {
     "name": "stdout",
     "output_type": "stream",
     "text": [
      "[00:34:10] WARNING: ../src/learner.cc:573: \n",
      "Parameters: { \"silent\" } might not be used.\n",
      "\n",
      "  This may not be accurate due to some parameters are only used in language bindings but\n",
      "  passed down to XGBoost core.  Or some parameters are not used but slip through this\n",
      "  verification. Please open an issue if you find above cases.\n",
      "\n",
      "\n",
      "[00:34:10] WARNING: ../src/learner.cc:1095: Starting in XGBoost 1.3.0, the default evaluation metric used with the objective 'multi:softprob' was changed from 'merror' to 'mlogloss'. Explicitly set eval_metric if you'd like to restore the old behavior.\n"
     ]
    },
    {
     "data": {
      "text/plain": [
       "RandomizedSearchCV(cv=StratifiedKFold(n_splits=4, random_state=1001, shuffle=True),\n",
       "                   estimator=XGBClassifier(base_score=None, booster=None,\n",
       "                                           colsample_bylevel=None,\n",
       "                                           colsample_bynode=None,\n",
       "                                           colsample_bytree=None, gamma=None,\n",
       "                                           gpu_id=None, importance_type='gain',\n",
       "                                           interaction_constraints=None,\n",
       "                                           learning_rate=0.02,\n",
       "                                           max_delta_step=None, max_depth=None,\n",
       "                                           min_child_weight=Non...\n",
       "                                           random_state=None, reg_alpha=None,\n",
       "                                           reg_lambda=None,\n",
       "                                           scale_pos_weight=None, silent=True,\n",
       "                                           subsample=None, tree_method=None,\n",
       "                                           validate_parameters=None,\n",
       "                                           verbosity=None),\n",
       "                   n_iter=5, n_jobs=4,\n",
       "                   param_distributions={'colsample_bytree': [0.6, 0.8, 1.0],\n",
       "                                        'gamma': [0.5, 1, 1.5, 2, 5],\n",
       "                                        'max_depth': [3, 4, 5, 6],\n",
       "                                        'min_child_weight': [1, 5, 10],\n",
       "                                        'subsample': [0.6, 0.8, 1.0]},\n",
       "                   random_state=1001, scoring='f1_micro', verbose=3)"
      ]
     },
     "execution_count": 17,
     "metadata": {},
     "output_type": "execute_result"
    }
   ],
   "source": [
    "random_search.fit(X_train_ortho,y_train_ortho)"
   ]
  },
  {
   "cell_type": "code",
   "execution_count": 18,
   "id": "5a0fe826",
   "metadata": {
    "execution": {
     "iopub.execute_input": "2021-09-30T00:34:33.121495Z",
     "iopub.status.busy": "2021-09-30T00:34:33.120736Z",
     "iopub.status.idle": "2021-09-30T00:34:33.383085Z",
     "shell.execute_reply": "2021-09-30T00:34:33.382473Z",
     "shell.execute_reply.started": "2021-09-30T00:16:56.052234Z"
    },
    "papermill": {
     "duration": 0.296973,
     "end_time": "2021-09-30T00:34:33.383252",
     "exception": false,
     "start_time": "2021-09-30T00:34:33.086279",
     "status": "completed"
    },
    "tags": []
   },
   "outputs": [
    {
     "name": "stdout",
     "output_type": "stream",
     "text": [
      "              precision    recall  f1-score   support\n",
      "\n",
      "    BARBUNYA       0.95      0.91      0.93       211\n",
      "      BOMBAY       1.00      1.00      1.00        84\n",
      "        CALI       0.92      0.96      0.94       261\n",
      "    DERMASON       0.91      0.94      0.93       567\n",
      "       HOROZ       0.98      0.96      0.97       298\n",
      "       SEKER       0.97      0.95      0.96       324\n",
      "        SIRA       0.89      0.87      0.88       422\n",
      "\n",
      "    accuracy                           0.93      2167\n",
      "   macro avg       0.95      0.94      0.94      2167\n",
      "weighted avg       0.93      0.93      0.93      2167\n",
      "\n"
     ]
    }
   ],
   "source": [
    "predicted_y = random_search.predict(X_valid_ortho)\n",
    "print(metrics.classification_report(y_valid_ortho, predicted_y))"
   ]
  },
  {
   "cell_type": "code",
   "execution_count": 19,
   "id": "5b1b7b51",
   "metadata": {
    "execution": {
     "iopub.execute_input": "2021-09-30T00:34:33.474038Z",
     "iopub.status.busy": "2021-09-30T00:34:33.473175Z",
     "iopub.status.idle": "2021-09-30T00:34:33.478153Z",
     "shell.execute_reply": "2021-09-30T00:34:33.477485Z",
     "shell.execute_reply.started": "2021-09-30T00:16:56.306239Z"
    },
    "papermill": {
     "duration": 0.063854,
     "end_time": "2021-09-30T00:34:33.478318",
     "exception": false,
     "start_time": "2021-09-30T00:34:33.414464",
     "status": "completed"
    },
    "tags": []
   },
   "outputs": [
    {
     "data": {
      "text/plain": [
       "0.9430874798638244"
      ]
     },
     "execution_count": 19,
     "metadata": {},
     "output_type": "execute_result"
    }
   ],
   "source": [
    "from sklearn.metrics import f1_score\n",
    "f1_score(y_valid_ortho, predicted_y,average='macro')"
   ]
  },
  {
   "cell_type": "code",
   "execution_count": 20,
   "id": "d8a6f4e0",
   "metadata": {
    "execution": {
     "iopub.execute_input": "2021-09-30T00:34:33.563165Z",
     "iopub.status.busy": "2021-09-30T00:34:33.562031Z",
     "iopub.status.idle": "2021-09-30T00:37:48.412714Z",
     "shell.execute_reply": "2021-09-30T00:37:48.412094Z",
     "shell.execute_reply.started": "2021-09-30T00:16:56.338107Z"
    },
    "papermill": {
     "duration": 194.903439,
     "end_time": "2021-09-30T00:37:48.412891",
     "exception": false,
     "start_time": "2021-09-30T00:34:33.509452",
     "status": "completed"
    },
    "tags": []
   },
   "outputs": [
    {
     "name": "stdout",
     "output_type": "stream",
     "text": [
      "Fitting 4 folds for each of 5 candidates, totalling 20 fits\n"
     ]
    },
    {
     "name": "stderr",
     "output_type": "stream",
     "text": [
      "[Parallel(n_jobs=4)]: Using backend LokyBackend with 4 concurrent workers.\n",
      "[Parallel(n_jobs=4)]: Done  20 out of  20 | elapsed:  2.8min remaining:    0.0s\n",
      "[Parallel(n_jobs=4)]: Done  20 out of  20 | elapsed:  2.8min finished\n",
      "/opt/conda/lib/python3.7/site-packages/xgboost/sklearn.py:1146: UserWarning: The use of label encoder in XGBClassifier is deprecated and will be removed in a future release. To remove this warning, do the following: 1) Pass option use_label_encoder=False when constructing XGBClassifier object; and 2) Encode your labels (y) as integers starting with 0, i.e. 0, 1, 2, ..., [num_class - 1].\n",
      "  warnings.warn(label_encoder_deprecation_msg, UserWarning)\n"
     ]
    },
    {
     "name": "stdout",
     "output_type": "stream",
     "text": [
      "[00:37:25] WARNING: ../src/learner.cc:573: \n",
      "Parameters: { \"silent\" } might not be used.\n",
      "\n",
      "  This may not be accurate due to some parameters are only used in language bindings but\n",
      "  passed down to XGBoost core.  Or some parameters are not used but slip through this\n",
      "  verification. Please open an issue if you find above cases.\n",
      "\n",
      "\n",
      "[00:37:25] WARNING: ../src/learner.cc:1095: Starting in XGBoost 1.3.0, the default evaluation metric used with the objective 'multi:softprob' was changed from 'merror' to 'mlogloss'. Explicitly set eval_metric if you'd like to restore the old behavior.\n"
     ]
    },
    {
     "data": {
      "text/plain": [
       "0.945200565187423"
      ]
     },
     "execution_count": 20,
     "metadata": {},
     "output_type": "execute_result"
    }
   ],
   "source": [
    "from sklearn.ensemble import VotingClassifier\n",
    "classifiers = [('Random Forest',random_forest ),\n",
    "               ('SVC',svc),\n",
    "               ('ْRandom Search', random_search)]\n",
    "\n",
    "vc = VotingClassifier(estimators=classifiers)\n",
    "vc.fit(X_train, y_train)\n",
    "y_pred = vc.predict(X_valid)\n",
    "f1_score(y_valid, y_pred,average='macro')"
   ]
  },
  {
   "cell_type": "code",
   "execution_count": 21,
   "id": "32d8997f",
   "metadata": {
    "execution": {
     "iopub.execute_input": "2021-09-30T00:37:48.492733Z",
     "iopub.status.busy": "2021-09-30T00:37:48.491991Z",
     "iopub.status.idle": "2021-09-30T00:41:59.415162Z",
     "shell.execute_reply": "2021-09-30T00:41:59.415700Z",
     "shell.execute_reply.started": "2021-09-30T00:25:36.455192Z"
    },
    "papermill": {
     "duration": 250.969956,
     "end_time": "2021-09-30T00:41:59.415940",
     "exception": false,
     "start_time": "2021-09-30T00:37:48.445984",
     "status": "completed"
    },
    "tags": []
   },
   "outputs": [
    {
     "name": "stdout",
     "output_type": "stream",
     "text": [
      "Fitting 4 folds for each of 5 candidates, totalling 20 fits\n",
      "[CV] subsample=0.6, min_child_weight=1, max_depth=4, gamma=0.5, colsample_bytree=0.8 \n",
      "[00:31:17] WARNING: ../src/learner.cc:573: \n",
      "Parameters: { \"silent\" } might not be used.\n",
      "\n",
      "  This may not be accurate due to some parameters are only used in language bindings but\n",
      "  passed down to XGBoost core.  Or some parameters are not used but slip through this\n",
      "  verification. Please open an issue if you find above cases.\n",
      "\n",
      "\n",
      "[00:31:17] WARNING: ../src/learner.cc:1095: Starting in XGBoost 1.3.0, the default evaluation metric used with the objective 'multi:softprob' was changed from 'merror' to 'mlogloss'. Explicitly set eval_metric if you'd like to restore the old behavior.\n",
      "[CV]  subsample=0.6, min_child_weight=1, max_depth=4, gamma=0.5, colsample_bytree=0.8, score=0.935, total=  28.5s\n",
      "[CV] subsample=0.8, min_child_weight=10, max_depth=6, gamma=1.5, colsample_bytree=0.8 \n",
      "[00:31:46] WARNING: ../src/learner.cc:573: \n",
      "Parameters: { \"silent\" } might not be used.\n",
      "\n",
      "  This may not be accurate due to some parameters are only used in language bindings but\n",
      "  passed down to XGBoost core.  Or some parameters are not used but slip through this\n",
      "  verification. Please open an issue if you find above cases.\n",
      "\n",
      "\n",
      "[00:31:46] WARNING: ../src/learner.cc:1095: Starting in XGBoost 1.3.0, the default evaluation metric used with the objective 'multi:softprob' was changed from 'merror' to 'mlogloss'. Explicitly set eval_metric if you'd like to restore the old behavior.\n",
      "[CV]  subsample=0.8, min_child_weight=10, max_depth=6, gamma=1.5, colsample_bytree=0.8, score=0.934, total=  33.1s\n",
      "[CV] subsample=0.8, min_child_weight=5, max_depth=5, gamma=5, colsample_bytree=1.0 \n",
      "[00:32:19] WARNING: ../src/learner.cc:573: \n",
      "Parameters: { \"silent\" } might not be used.\n",
      "\n",
      "  This may not be accurate due to some parameters are only used in language bindings but\n",
      "  passed down to XGBoost core.  Or some parameters are not used but slip through this\n",
      "  verification. Please open an issue if you find above cases.\n",
      "\n",
      "\n",
      "[00:32:19] WARNING: ../src/learner.cc:1095: Starting in XGBoost 1.3.0, the default evaluation metric used with the objective 'multi:softprob' was changed from 'merror' to 'mlogloss'. Explicitly set eval_metric if you'd like to restore the old behavior.\n",
      "[CV]  subsample=0.8, min_child_weight=5, max_depth=5, gamma=5, colsample_bytree=1.0, score=0.916, total=  42.9s\n",
      "[CV] subsample=1.0, min_child_weight=1, max_depth=4, gamma=1, colsample_bytree=0.8 \n",
      "[00:33:02] WARNING: ../src/learner.cc:573: \n",
      "Parameters: { \"silent\" } might not be used.\n",
      "\n",
      "  This may not be accurate due to some parameters are only used in language bindings but\n",
      "  passed down to XGBoost core.  Or some parameters are not used but slip through this\n",
      "  verification. Please open an issue if you find above cases.\n",
      "\n",
      "\n",
      "[00:33:02] WARNING: ../src/learner.cc:1095: Starting in XGBoost 1.3.0, the default evaluation metric used with the objective 'multi:softprob' was changed from 'merror' to 'mlogloss'. Explicitly set eval_metric if you'd like to restore the old behavior.\n",
      "[CV]  subsample=1.0, min_child_weight=1, max_depth=4, gamma=1, colsample_bytree=0.8, score=0.926, total=  34.6s\n",
      "[CV] subsample=0.6, min_child_weight=1, max_depth=5, gamma=1.5, colsample_bytree=0.8 \n",
      "[00:33:36] WARNING: ../src/learner.cc:573: \n",
      "Parameters: { \"silent\" } might not be used.\n",
      "\n",
      "  This may not be accurate due to some parameters are only used in language bindings but\n",
      "  passed down to XGBoost core.  Or some parameters are not used but slip through this\n",
      "  verification. Please open an issue if you find above cases.\n",
      "\n",
      "\n",
      "[00:33:36] WARNING: ../src/learner.cc:1095: Starting in XGBoost 1.3.0, the default evaluation metric used with the objective 'multi:softprob' was changed from 'merror' to 'mlogloss'. Explicitly set eval_metric if you'd like to restore the old behavior.\n",
      "[CV]  subsample=0.6, min_child_weight=1, max_depth=5, gamma=1.5, colsample_bytree=0.8, score=0.919, total=  33.1s\n",
      "[CV] subsample=0.6, min_child_weight=1, max_depth=4, gamma=0.5, colsample_bytree=0.8 \n",
      "[00:34:36] WARNING: ../src/learner.cc:573: \n",
      "Parameters: { \"silent\" } might not be used.\n",
      "\n",
      "  This may not be accurate due to some parameters are only used in language bindings but\n",
      "  passed down to XGBoost core.  Or some parameters are not used but slip through this\n",
      "  verification. Please open an issue if you find above cases.\n",
      "\n",
      "\n",
      "[00:34:36] WARNING: ../src/learner.cc:1095: Starting in XGBoost 1.3.0, the default evaluation metric used with the objective 'multi:softprob' was changed from 'merror' to 'mlogloss'. Explicitly set eval_metric if you'd like to restore the old behavior.\n",
      "[CV]  subsample=0.6, min_child_weight=1, max_depth=4, gamma=0.5, colsample_bytree=0.8, score=0.917, total=  27.9s\n",
      "[CV] subsample=0.8, min_child_weight=10, max_depth=6, gamma=1.5, colsample_bytree=0.8 \n",
      "[00:35:03] WARNING: ../src/learner.cc:573: \n",
      "Parameters: { \"silent\" } might not be used.\n",
      "\n",
      "  This may not be accurate due to some parameters are only used in language bindings but\n",
      "  passed down to XGBoost core.  Or some parameters are not used but slip through this\n",
      "  verification. Please open an issue if you find above cases.\n",
      "\n",
      "\n",
      "[00:35:03] WARNING: ../src/learner.cc:1095: Starting in XGBoost 1.3.0, the default evaluation metric used with the objective 'multi:softprob' was changed from 'merror' to 'mlogloss'. Explicitly set eval_metric if you'd like to restore the old behavior.\n",
      "[CV]  subsample=0.8, min_child_weight=10, max_depth=6, gamma=1.5, colsample_bytree=0.8, score=0.923, total=  31.6s\n",
      "[CV] subsample=0.8, min_child_weight=5, max_depth=5, gamma=5, colsample_bytree=1.0 \n",
      "[00:35:35] WARNING: ../src/learner.cc:573: \n",
      "Parameters: { \"silent\" } might not be used.\n",
      "\n",
      "  This may not be accurate due to some parameters are only used in language bindings but\n",
      "  passed down to XGBoost core.  Or some parameters are not used but slip through this\n",
      "  verification. Please open an issue if you find above cases.\n",
      "\n",
      "\n",
      "[00:35:35] WARNING: ../src/learner.cc:1095: Starting in XGBoost 1.3.0, the default evaluation metric used with the objective 'multi:softprob' was changed from 'merror' to 'mlogloss'. Explicitly set eval_metric if you'd like to restore the old behavior.\n",
      "[CV]  subsample=0.8, min_child_weight=5, max_depth=5, gamma=5, colsample_bytree=1.0, score=0.916, total=  42.4s\n",
      "[CV] subsample=1.0, min_child_weight=1, max_depth=4, gamma=1, colsample_bytree=0.8 \n",
      "[00:36:17] WARNING: ../src/learner.cc:573: \n",
      "Parameters: { \"silent\" } might not be used.\n",
      "\n",
      "  This may not be accurate due to some parameters are only used in language bindings but\n",
      "  passed down to XGBoost core.  Or some parameters are not used but slip through this\n",
      "  verification. Please open an issue if you find above cases.\n",
      "\n",
      "\n",
      "[00:36:18] WARNING: ../src/learner.cc:1095: Starting in XGBoost 1.3.0, the default evaluation metric used with the objective 'multi:softprob' was changed from 'merror' to 'mlogloss'. Explicitly set eval_metric if you'd like to restore the old behavior.\n",
      "[CV]  subsample=1.0, min_child_weight=1, max_depth=4, gamma=1, colsample_bytree=0.8, score=0.924, total=  34.1s\n",
      "[CV] subsample=0.6, min_child_weight=1, max_depth=5, gamma=1.5, colsample_bytree=0.8 \n",
      "[00:36:52] WARNING: ../src/learner.cc:573: \n",
      "Parameters: { \"silent\" } might not be used.\n",
      "\n",
      "  This may not be accurate due to some parameters are only used in language bindings but\n",
      "  passed down to XGBoost core.  Or some parameters are not used but slip through this\n",
      "  verification. Please open an issue if you find above cases.\n",
      "\n",
      "\n",
      "[00:36:52] WARNING: ../src/learner.cc:1095: Starting in XGBoost 1.3.0, the default evaluation metric used with the objective 'multi:softprob' was changed from 'merror' to 'mlogloss'. Explicitly set eval_metric if you'd like to restore the old behavior.\n",
      "[CV]  subsample=0.6, min_child_weight=1, max_depth=5, gamma=1.5, colsample_bytree=0.8, score=0.922, total=  32.9s\n",
      "[CV] subsample=0.6, min_child_weight=1, max_depth=4, gamma=0.5, colsample_bytree=0.8 \n",
      "[00:37:51] WARNING: ../src/learner.cc:573: \n",
      "Parameters: { \"silent\" } might not be used.\n",
      "\n",
      "  This may not be accurate due to some parameters are only used in language bindings but\n",
      "  passed down to XGBoost core.  Or some parameters are not used but slip through this\n",
      "  verification. Please open an issue if you find above cases.\n",
      "\n",
      "[CV] subsample=0.6, min_child_weight=1, max_depth=4, gamma=0.5, colsample_bytree=0.8 \n",
      "[00:31:17] WARNING: ../src/learner.cc:573: \n",
      "Parameters: { \"silent\" } might not be used.\n",
      "\n",
      "  This may not be accurate due to some parameters are only used in language bindings but\n",
      "  passed down to XGBoost core.  Or some parameters are not used but slip through this\n",
      "  verification. Please open an issue if you find above cases.\n",
      "\n",
      "\n",
      "[00:31:17] WARNING: ../src/learner.cc:1095: Starting in XGBoost 1.3.0, the default evaluation metric used with the objective 'multi:softprob' was changed from 'merror' to 'mlogloss'. Explicitly set eval_metric if you'd like to restore the old behavior.\n",
      "[CV]  subsample=0.6, min_child_weight=1, max_depth=4, gamma=0.5, colsample_bytree=0.8, score=0.921, total=  28.5s\n",
      "[CV] subsample=0.8, min_child_weight=10, max_depth=6, gamma=1.5, colsample_bytree=0.8 \n",
      "[00:31:46] WARNING: ../src/learner.cc:573: \n",
      "Parameters: { \"silent\" } might not be used.\n",
      "\n",
      "  This may not be accurate due to some parameters are only used in language bindings but\n",
      "  passed down to XGBoost core.  Or some parameters are not used but slip through this\n",
      "  verification. Please open an issue if you find above cases.\n",
      "\n",
      "\n",
      "[00:31:46] WARNING: ../src/learner.cc:1095: Starting in XGBoost 1.3.0, the default evaluation metric used with the objective 'multi:softprob' was changed from 'merror' to 'mlogloss'. Explicitly set eval_metric if you'd like to restore the old behavior.\n",
      "[CV]  subsample=0.8, min_child_weight=10, max_depth=6, gamma=1.5, colsample_bytree=0.8, score=0.921, total=  32.8s\n",
      "[CV] subsample=0.8, min_child_weight=5, max_depth=5, gamma=5, colsample_bytree=1.0 \n",
      "[00:32:19] WARNING: ../src/learner.cc:573: \n",
      "Parameters: { \"silent\" } might not be used.\n",
      "\n",
      "  This may not be accurate due to some parameters are only used in language bindings but\n",
      "  passed down to XGBoost core.  Or some parameters are not used but slip through this\n",
      "  verification. Please open an issue if you find above cases.\n",
      "\n",
      "\n",
      "[00:32:19] WARNING: ../src/learner.cc:1095: Starting in XGBoost 1.3.0, the default evaluation metric used with the objective 'multi:softprob' was changed from 'merror' to 'mlogloss'. Explicitly set eval_metric if you'd like to restore the old behavior.\n",
      "[CV]  subsample=0.8, min_child_weight=5, max_depth=5, gamma=5, colsample_bytree=1.0, score=0.914, total=  43.2s\n",
      "[CV] subsample=1.0, min_child_weight=1, max_depth=4, gamma=1, colsample_bytree=0.8 \n",
      "[00:33:02] WARNING: ../src/learner.cc:573: \n",
      "Parameters: { \"silent\" } might not be used.\n",
      "\n",
      "  This may not be accurate due to some parameters are only used in language bindings but\n",
      "  passed down to XGBoost core.  Or some parameters are not used but slip through this\n",
      "  verification. Please open an issue if you find above cases.\n",
      "\n",
      "\n",
      "[00:33:02] WARNING: ../src/learner.cc:1095: Starting in XGBoost 1.3.0, the default evaluation metric used with the objective 'multi:softprob' was changed from 'merror' to 'mlogloss'. Explicitly set eval_metric if you'd like to restore the old behavior.\n",
      "[CV]  subsample=1.0, min_child_weight=1, max_depth=4, gamma=1, colsample_bytree=0.8, score=0.920, total=  34.3s\n",
      "[CV] subsample=0.6, min_child_weight=1, max_depth=5, gamma=1.5, colsample_bytree=0.8 \n",
      "[00:33:36] WARNING: ../src/learner.cc:573: \n",
      "Parameters: { \"silent\" } might not be used.\n",
      "\n",
      "  This may not be accurate due to some parameters are only used in language bindings but\n",
      "  passed down to XGBoost core.  Or some parameters are not used but slip through this\n",
      "  verification. Please open an issue if you find above cases.\n",
      "\n",
      "\n",
      "[00:33:36] WARNING: ../src/learner.cc:1095: Starting in XGBoost 1.3.0, the default evaluation metric used with the objective 'multi:softprob' was changed from 'merror' to 'mlogloss'. Explicitly set eval_metric if you'd like to restore the old behavior.\n",
      "[CV]  subsample=0.6, min_child_weight=1, max_depth=5, gamma=1.5, colsample_bytree=0.8, score=0.927, total=  33.2s\n",
      "[CV] subsample=0.6, min_child_weight=1, max_depth=4, gamma=0.5, colsample_bytree=0.8 \n",
      "[00:34:36] WARNING: ../src/learner.cc:573: \n",
      "Parameters: { \"silent\" } might not be used.\n",
      "\n",
      "  This may not be accurate due to some parameters are only used in language bindings but\n",
      "  passed down to XGBoost core.  Or some parameters are not used but slip through this\n",
      "  verification. Please open an issue if you find above cases.\n",
      "\n",
      "\n",
      "[00:34:36] WARNING: ../src/learner.cc:1095: Starting in XGBoost 1.3.0, the default evaluation metric used with the objective 'multi:softprob' was changed from 'merror' to 'mlogloss'. Explicitly set eval_metric if you'd like to restore the old behavior.\n",
      "[CV]  subsample=0.6, min_child_weight=1, max_depth=4, gamma=0.5, colsample_bytree=0.8, score=0.924, total=  27.9s\n",
      "[CV] subsample=0.8, min_child_weight=10, max_depth=6, gamma=1.5, colsample_bytree=0.8 \n",
      "[00:35:03] WARNING: ../src/learner.cc:573: \n",
      "Parameters: { \"silent\" } might not be used.\n",
      "\n",
      "  This may not be accurate due to some parameters are only used in language bindings but\n",
      "  passed down to XGBoost core.  Or some parameters are not used but slip through this\n",
      "  verification. Please open an issue if you find above cases.\n",
      "\n",
      "\n",
      "[00:35:04] WARNING: ../src/learner.cc:1095: Starting in XGBoost 1.3.0, the default evaluation metric used with the objective 'multi:softprob' was changed from 'merror' to 'mlogloss'. Explicitly set eval_metric if you'd like to restore the old behavior.\n",
      "[CV]  subsample=0.8, min_child_weight=10, max_depth=6, gamma=1.5, colsample_bytree=0.8, score=0.916, total=  31.5s\n",
      "[CV] subsample=0.8, min_child_weight=5, max_depth=5, gamma=5, colsample_bytree=1.0 \n",
      "[00:35:35] WARNING: ../src/learner.cc:573: \n",
      "Parameters: { \"silent\" } might not be used.\n",
      "\n",
      "  This may not be accurate due to some parameters are only used in language bindings but\n",
      "  passed down to XGBoost core.  Or some parameters are not used but slip through this\n",
      "  verification. Please open an issue if you find above cases.\n",
      "\n",
      "\n",
      "[00:35:35] WARNING: ../src/learner.cc:1095: Starting in XGBoost 1.3.0, the default evaluation metric used with the objective 'multi:softprob' was changed from 'merror' to 'mlogloss'. Explicitly set eval_metric if you'd like to restore the old behavior.\n",
      "[CV]  subsample=0.8, min_child_weight=5, max_depth=5, gamma=5, colsample_bytree=1.0, score=0.918, total=  43.2s\n",
      "[CV] subsample=1.0, min_child_weight=1, max_depth=4, gamma=1, colsample_bytree=0.8 \n",
      "[00:36:18] WARNING: ../src/learner.cc:573: \n",
      "Parameters: { \"silent\" } might not be used.\n",
      "\n",
      "  This may not be accurate due to some parameters are only used in language bindings but\n",
      "  passed down to XGBoost core.  Or some parameters are not used but slip through this\n",
      "  verification. Please open an issue if you find above cases.\n",
      "\n",
      "\n",
      "[00:36:18] WARNING: ../src/learner.cc:1095: Starting in XGBoost 1.3.0, the default evaluation metric used with the objective 'multi:softprob' was changed from 'merror' to 'mlogloss'. Explicitly set eval_metric if you'd like to restore the old behavior.\n",
      "[CV]  subsample=1.0, min_child_weight=1, max_depth=4, gamma=1, colsample_bytree=0.8, score=0.915, total=  33.6s\n",
      "[CV] subsample=0.6, min_child_weight=1, max_depth=5, gamma=1.5, colsample_bytree=0.8 \n",
      "[00:36:52] WARNING: ../src/learner.cc:573: \n",
      "Parameters: { \"silent\" } might not be used.\n",
      "\n",
      "  This may not be accurate due to some parameters are only used in language bindings but\n",
      "  passed down to XGBoost core.  Or some parameters are not used but slip through this\n",
      "  verification. Please open an issue if you find above cases.\n",
      "\n",
      "\n",
      "[00:36:52] WARNING: ../src/learner.cc:1095: Starting in XGBoost 1.3.0, the default evaluation metric used with the objective 'multi:softprob' was changed from 'merror' to 'mlogloss'. Explicitly set eval_metric if you'd like to restore the old behavior.\n",
      "[CV]  subsample=0.6, min_child_weight=1, max_depth=5, gamma=1.5, colsample_bytree=0.8, score=0.916, total=  32.8s\n",
      "[CV] subsample=0.6, min_child_weight=1, max_depth=4, gamma=0.5, colsample_bytree=0.8 \n",
      "[00:37:51] WARNING: ../src/learner.cc:573: \n",
      "Parameters: { \"silent\" } might not be used.\n",
      "\n",
      "  This may not be accurate due to some parameters are only used in language bindings but\n",
      "  passed down to XGBoost core.  Or some parameters are not used but slip through this\n",
      "  verification. Please open an issue if you find above cases.\n",
      "\n",
      "[CV] subsample=0.6, min_child_weight=1, max_depth=4, gamma=0.5, colsample_bytree=0.8 \n",
      "[00:31:17] WARNING: ../src/learner.cc:573: \n",
      "Parameters: { \"silent\" } might not be used.\n",
      "\n",
      "  This may not be accurate due to some parameters are only used in language bindings but\n",
      "  passed down to XGBoost core.  Or some parameters are not used but slip through this\n",
      "  verification. Please open an issue if you find above cases.\n",
      "\n",
      "\n",
      "[00:31:17] WARNING: ../src/learner.cc:1095: Starting in XGBoost 1.3.0, the default evaluation metric used with the objective 'multi:softprob' was changed from 'merror' to 'mlogloss'. Explicitly set eval_metric if you'd like to restore the old behavior.\n",
      "[CV]  subsample=0.6, min_child_weight=1, max_depth=4, gamma=0.5, colsample_bytree=0.8, score=0.925, total=  28.4s\n",
      "[CV] subsample=0.8, min_child_weight=10, max_depth=6, gamma=1.5, colsample_bytree=0.8 \n",
      "[00:31:46] WARNING: ../src/learner.cc:573: \n",
      "Parameters: { \"silent\" } might not be used.\n",
      "\n",
      "  This may not be accurate due to some parameters are only used in language bindings but\n",
      "  passed down to XGBoost core.  Or some parameters are not used but slip through this\n",
      "  verification. Please open an issue if you find above cases.\n",
      "\n",
      "\n",
      "[00:31:46] WARNING: ../src/learner.cc:1095: Starting in XGBoost 1.3.0, the default evaluation metric used with the objective 'multi:softprob' was changed from 'merror' to 'mlogloss'. Explicitly set eval_metric if you'd like to restore the old behavior.\n",
      "[CV]  subsample=0.8, min_child_weight=10, max_depth=6, gamma=1.5, colsample_bytree=0.8, score=0.926, total=  32.7s\n",
      "[CV] subsample=0.8, min_child_weight=5, max_depth=5, gamma=5, colsample_bytree=1.0 \n",
      "[00:32:18] WARNING: ../src/learner.cc:573: \n",
      "Parameters: { \"silent\" } might not be used.\n",
      "\n",
      "  This may not be accurate due to some parameters are only used in language bindings but\n",
      "  passed down to XGBoost core.  Or some parameters are not used but slip through this\n",
      "  verification. Please open an issue if you find above cases.\n",
      "\n",
      "\n",
      "[00:32:19] WARNING: ../src/learner.cc:1095: Starting in XGBoost 1.3.0, the default evaluation metric used with the objective 'multi:softprob' was changed from 'merror' to 'mlogloss'. Explicitly set eval_metric if you'd like to restore the old behavior.\n",
      "[CV]  subsample=0.8, min_child_weight=5, max_depth=5, gamma=5, colsample_bytree=1.0, score=0.924, total=  43.4s\n",
      "[CV] subsample=1.0, min_child_weight=1, max_depth=4, gamma=1, colsample_bytree=0.8 \n",
      "[00:33:02] WARNING: ../src/learner.cc:573: \n",
      "Parameters: { \"silent\" } might not be used.\n",
      "\n",
      "  This may not be accurate due to some parameters are only used in language bindings but\n",
      "  passed down to XGBoost core.  Or some parameters are not used but slip through this\n",
      "  verification. Please open an issue if you find above cases.\n",
      "\n",
      "\n",
      "[00:33:02] WARNING: ../src/learner.cc:1095: Starting in XGBoost 1.3.0, the default evaluation metric used with the objective 'multi:softprob' was changed from 'merror' to 'mlogloss'. Explicitly set eval_metric if you'd like to restore the old behavior.\n",
      "[CV]  subsample=1.0, min_child_weight=1, max_depth=4, gamma=1, colsample_bytree=0.8, score=0.933, total=  34.6s\n",
      "[CV] subsample=0.6, min_child_weight=1, max_depth=5, gamma=1.5, colsample_bytree=0.8 \n",
      "[00:33:36] WARNING: ../src/learner.cc:573: \n",
      "Parameters: { \"silent\" } might not be used.\n",
      "\n",
      "  This may not be accurate due to some parameters are only used in language bindings but\n",
      "  passed down to XGBoost core.  Or some parameters are not used but slip through this\n",
      "  verification. Please open an issue if you find above cases.\n",
      "\n",
      "\n",
      "[00:33:37] WARNING: ../src/learner.cc:1095: Starting in XGBoost 1.3.0, the default evaluation metric used with the objective 'multi:softprob' was changed from 'merror' to 'mlogloss'. Explicitly set eval_metric if you'd like to restore the old behavior.\n",
      "[CV]  subsample=0.6, min_child_weight=1, max_depth=5, gamma=1.5, colsample_bytree=0.8, score=0.934, total=  33.3s\n",
      "[CV] subsample=0.6, min_child_weight=1, max_depth=4, gamma=0.5, colsample_bytree=0.8 \n",
      "[00:34:36] WARNING: ../src/learner.cc:573: \n",
      "Parameters: { \"silent\" } might not be used.\n",
      "\n",
      "  This may not be accurate due to some parameters are only used in language bindings but\n",
      "  passed down to XGBoost core.  Or some parameters are not used but slip through this\n",
      "  verification. Please open an issue if you find above cases.\n",
      "\n",
      "\n",
      "[00:34:36] WARNING: ../src/learner.cc:1095: Starting in XGBoost 1.3.0, the default evaluation metric used with the objective 'multi:softprob' was changed from 'merror' to 'mlogloss'. Explicitly set eval_metric if you'd like to restore the old behavior.\n",
      "[CV]  subsample=0.6, min_child_weight=1, max_depth=4, gamma=0.5, colsample_bytree=0.8, score=0.938, total=  28.1s\n",
      "[CV] subsample=0.8, min_child_weight=10, max_depth=6, gamma=1.5, colsample_bytree=0.8 \n",
      "[00:35:04] WARNING: ../src/learner.cc:573: \n",
      "Parameters: { \"silent\" } might not be used.\n",
      "\n",
      "  This may not be accurate due to some parameters are only used in language bindings but\n",
      "  passed down to XGBoost core.  Or some parameters are not used but slip through this\n",
      "  verification. Please open an issue if you find above cases.\n",
      "\n",
      "\n",
      "[00:35:04] WARNING: ../src/learner.cc:1095: Starting in XGBoost 1.3.0, the default evaluation metric used with the objective 'multi:softprob' was changed from 'merror' to 'mlogloss'. Explicitly set eval_metric if you'd like to restore the old behavior.\n",
      "[CV]  subsample=0.8, min_child_weight=10, max_depth=6, gamma=1.5, colsample_bytree=0.8, score=0.923, total=  32.0s\n",
      "[CV] subsample=0.8, min_child_weight=5, max_depth=5, gamma=5, colsample_bytree=1.0 \n",
      "[00:35:36] WARNING: ../src/learner.cc:573: \n",
      "Parameters: { \"silent\" } might not be used.\n",
      "\n",
      "  This may not be accurate due to some parameters are only used in language bindings but\n",
      "  passed down to XGBoost core.  Or some parameters are not used but slip through this\n",
      "  verification. Please open an issue if you find above cases.\n",
      "\n",
      "\n",
      "[00:35:36] WARNING: ../src/learner.cc:1095: Starting in XGBoost 1.3.0, the default evaluation metric used with the objective 'multi:softprob' was changed from 'merror' to 'mlogloss'. Explicitly set eval_metric if you'd like to restore the old behavior.\n",
      "[CV]  subsample=0.8, min_child_weight=5, max_depth=5, gamma=5, colsample_bytree=1.0, score=0.926, total=  42.7s\n",
      "[CV] subsample=1.0, min_child_weight=1, max_depth=4, gamma=1, colsample_bytree=0.8 \n",
      "[00:36:18] WARNING: ../src/learner.cc:573: \n",
      "Parameters: { \"silent\" } might not be used.\n",
      "\n",
      "  This may not be accurate due to some parameters are only used in language bindings but\n",
      "  passed down to XGBoost core.  Or some parameters are not used but slip through this\n",
      "  verification. Please open an issue if you find above cases.\n",
      "\n",
      "\n",
      "[00:36:18] WARNING: ../src/learner.cc:1095: Starting in XGBoost 1.3.0, the default evaluation metric used with the objective 'multi:softprob' was changed from 'merror' to 'mlogloss'. Explicitly set eval_metric if you'd like to restore the old behavior.\n",
      "[CV]  subsample=1.0, min_child_weight=1, max_depth=4, gamma=1, colsample_bytree=0.8, score=0.936, total=  34.2s\n",
      "[CV] subsample=0.6, min_child_weight=1, max_depth=5, gamma=1.5, colsample_bytree=0.8 \n",
      "[00:36:53] WARNING: ../src/learner.cc:573: \n",
      "Parameters: { \"silent\" } might not be used.\n",
      "\n",
      "  This may not be accurate due to some parameters are only used in language bindings but\n",
      "  passed down to XGBoost core.  Or some parameters are not used but slip through this\n",
      "  verification. Please open an issue if you find above cases.\n",
      "\n",
      "\n",
      "[00:36:53] WARNING: ../src/learner.cc:1095: Starting in XGBoost 1.3.0, the default evaluation metric used with the objective 'multi:softprob' was changed from 'merror' to 'mlogloss'. Explicitly set eval_metric if you'd like to restore the old behavior.\n",
      "[CV]  subsample=0.6, min_child_weight=1, max_depth=5, gamma=1.5, colsample_bytree=0.8, score=0.923, total=  32.5s\n",
      "[CV] subsample=0.6, min_child_weight=1, max_depth=4, gamma=0.5, colsample_bytree=0.8 \n",
      "[00:37:51] WARNING: ../src/learner.cc:573: \n",
      "Parameters: { \"silent\" } might not be used.\n",
      "\n",
      "  This may not be accurate due to some parameters are only used in language bindings but\n",
      "  passed down to XGBoost core.  Or some parameters are not used but slip through this\n",
      "  verification. Please open an issue if you find above cases.\n",
      "\n",
      "[CV] subsample=0.6, min_child_weight=1, max_depth=4, gamma=0.5, colsample_bytree=0.8 \n",
      "[00:31:17] WARNING: ../src/learner.cc:573: \n",
      "Parameters: { \"silent\" } might not be used.\n",
      "\n",
      "  This may not be accurate due to some parameters are only used in language bindings but\n",
      "  passed down to XGBoost core.  Or some parameters are not used but slip through this\n",
      "  verification. Please open an issue if you find above cases.\n",
      "\n",
      "\n",
      "[00:31:17] WARNING: ../src/learner.cc:1095: Starting in XGBoost 1.3.0, the default evaluation metric used with the objective 'multi:softprob' was changed from 'merror' to 'mlogloss'. Explicitly set eval_metric if you'd like to restore the old behavior.\n",
      "[CV]  subsample=0.6, min_child_weight=1, max_depth=4, gamma=0.5, colsample_bytree=0.8, score=0.926, total=  28.5s\n",
      "[CV] subsample=0.8, min_child_weight=10, max_depth=6, gamma=1.5, colsample_bytree=0.8 \n",
      "[00:31:46] WARNING: ../src/learner.cc:573: \n",
      "Parameters: { \"silent\" } might not be used.\n",
      "\n",
      "  This may not be accurate due to some parameters are only used in language bindings but\n",
      "  passed down to XGBoost core.  Or some parameters are not used but slip through this\n",
      "  verification. Please open an issue if you find above cases.\n",
      "\n",
      "\n",
      "[00:31:46] WARNING: ../src/learner.cc:1095: Starting in XGBoost 1.3.0, the default evaluation metric used with the objective 'multi:softprob' was changed from 'merror' to 'mlogloss'. Explicitly set eval_metric if you'd like to restore the old behavior.\n",
      "[CV]  subsample=0.8, min_child_weight=10, max_depth=6, gamma=1.5, colsample_bytree=0.8, score=0.918, total=  32.8s\n",
      "[CV] subsample=0.8, min_child_weight=5, max_depth=5, gamma=5, colsample_bytree=1.0 \n",
      "[00:32:19] WARNING: ../src/learner.cc:573: \n",
      "Parameters: { \"silent\" } might not be used.\n",
      "\n",
      "  This may not be accurate due to some parameters are only used in language bindings but\n",
      "  passed down to XGBoost core.  Or some parameters are not used but slip through this\n",
      "  verification. Please open an issue if you find above cases.\n",
      "\n",
      "\n",
      "[00:32:19] WARNING: ../src/learner.cc:1095: Starting in XGBoost 1.3.0, the default evaluation metric used with the objective 'multi:softprob' was changed from 'merror' to 'mlogloss'. Explicitly set eval_metric if you'd like to restore the old behavior.\n",
      "[CV]  subsample=0.8, min_child_weight=5, max_depth=5, gamma=5, colsample_bytree=1.0, score=0.930, total=  43.6s\n",
      "[CV] subsample=1.0, min_child_weight=1, max_depth=4, gamma=1, colsample_bytree=0.8 \n",
      "[00:33:02] WARNING: ../src/learner.cc:573: \n",
      "Parameters: { \"silent\" } might not be used.\n",
      "\n",
      "  This may not be accurate due to some parameters are only used in language bindings but\n",
      "  passed down to XGBoost core.  Or some parameters are not used but slip through this\n",
      "  verification. Please open an issue if you find above cases.\n",
      "\n",
      "\n",
      "[00:33:02] WARNING: ../src/learner.cc:1095: Starting in XGBoost 1.3.0, the default evaluation metric used with the objective 'multi:softprob' was changed from 'merror' to 'mlogloss'. Explicitly set eval_metric if you'd like to restore the old behavior.\n",
      "[CV]  subsample=1.0, min_child_weight=1, max_depth=4, gamma=1, colsample_bytree=0.8, score=0.923, total=  34.8s\n",
      "[CV] subsample=0.6, min_child_weight=1, max_depth=5, gamma=1.5, colsample_bytree=0.8 \n",
      "[00:33:37] WARNING: ../src/learner.cc:573: \n",
      "Parameters: { \"silent\" } might not be used.\n",
      "\n",
      "  This may not be accurate due to some parameters are only used in language bindings but\n",
      "  passed down to XGBoost core.  Or some parameters are not used but slip through this\n",
      "  verification. Please open an issue if you find above cases.\n",
      "\n",
      "\n",
      "[00:33:37] WARNING: ../src/learner.cc:1095: Starting in XGBoost 1.3.0, the default evaluation metric used with the objective 'multi:softprob' was changed from 'merror' to 'mlogloss'. Explicitly set eval_metric if you'd like to restore the old behavior.\n",
      "[CV]  subsample=0.6, min_child_weight=1, max_depth=5, gamma=1.5, colsample_bytree=0.8, score=0.923, total=  32.9s\n",
      "[CV] subsample=0.6, min_child_weight=1, max_depth=4, gamma=0.5, colsample_bytree=0.8 \n",
      "[00:34:36] WARNING: ../src/learner.cc:573: \n",
      "Parameters: { \"silent\" } might not be used.\n",
      "\n",
      "  This may not be accurate due to some parameters are only used in language bindings but\n",
      "  passed down to XGBoost core.  Or some parameters are not used but slip through this\n",
      "  verification. Please open an issue if you find above cases.\n",
      "\n",
      "\n",
      "[00:34:36] WARNING: ../src/learner.cc:1095: Starting in XGBoost 1.3.0, the default evaluation metric used with the objective 'multi:softprob' was changed from 'merror' to 'mlogloss'. Explicitly set eval_metric if you'd like to restore the old behavior.\n",
      "[CV]  subsample=0.6, min_child_weight=1, max_depth=4, gamma=0.5, colsample_bytree=0.8, score=0.924, total=  27.9s\n",
      "[CV] subsample=0.8, min_child_weight=10, max_depth=6, gamma=1.5, colsample_bytree=0.8 \n",
      "[00:35:03] WARNING: ../src/learner.cc:573: \n",
      "Parameters: { \"silent\" } might not be used.\n",
      "\n",
      "  This may not be accurate due to some parameters are only used in language bindings but\n",
      "  passed down to XGBoost core.  Or some parameters are not used but slip through this\n",
      "  verification. Please open an issue if you find above cases.\n",
      "\n",
      "\n",
      "[00:35:04] WARNING: ../src/learner.cc:1095: Starting in XGBoost 1.3.0, the default evaluation metric used with the objective 'multi:softprob' was changed from 'merror' to 'mlogloss'. Explicitly set eval_metric if you'd like to restore the old behavior.\n",
      "[CV]  subsample=0.8, min_child_weight=10, max_depth=6, gamma=1.5, colsample_bytree=0.8, score=0.938, total=  32.1s\n",
      "[CV] subsample=0.8, min_child_weight=5, max_depth=5, gamma=5, colsample_bytree=1.0 \n",
      "[00:35:36] WARNING: ../src/learner.cc:573: \n",
      "Parameters: { \"silent\" } might not be used.\n",
      "\n",
      "  This may not be accurate due to some parameters are only used in language bindings but\n",
      "  passed down to XGBoost core.  Or some parameters are not used but slip through this\n",
      "  verification. Please open an issue if you find above cases.\n",
      "\n",
      "\n",
      "[00:35:36] WARNING: ../src/learner.cc:1095: Starting in XGBoost 1.3.0, the default evaluation metric used with the objective 'multi:softprob' was changed from 'merror' to 'mlogloss'. Explicitly set eval_metric if you'd like to restore the old behavior.\n",
      "[CV]  subsample=0.8, min_child_weight=5, max_depth=5, gamma=5, colsample_bytree=1.0, score=0.935, total=  42.9s\n",
      "[CV] subsample=1.0, min_child_weight=1, max_depth=4, gamma=1, colsample_bytree=0.8 \n",
      "[00:36:19] WARNING: ../src/learner.cc:573: \n",
      "Parameters: { \"silent\" } might not be used.\n",
      "\n",
      "  This may not be accurate due to some parameters are only used in language bindings but\n",
      "  passed down to XGBoost core.  Or some parameters are not used but slip through this\n",
      "  verification. Please open an issue if you find above cases.\n",
      "\n",
      "\n",
      "[00:36:19] WARNING: ../src/learner.cc:1095: Starting in XGBoost 1.3.0, the default evaluation metric used with the objective 'multi:softprob' was changed from 'merror' to 'mlogloss'. Explicitly set eval_metric if you'd like to restore the old behavior.\n",
      "[CV]  subsample=1.0, min_child_weight=1, max_depth=4, gamma=1, colsample_bytree=0.8, score=0.923, total=  33.9s\n",
      "[CV] subsample=0.6, min_child_weight=1, max_depth=5, gamma=1.5, colsample_bytree=0.8 \n",
      "[00:36:53] WARNING: ../src/learner.cc:573: \n",
      "Parameters: { \"silent\" } might not be used.\n",
      "\n",
      "  This may not be accurate due to some parameters are only used in language bindings but\n",
      "  passed down to XGBoost core.  Or some parameters are not used but slip through this\n",
      "  verification. Please open an issue if you find above cases.\n",
      "\n",
      "\n",
      "[00:36:53] WARNING: ../src/learner.cc:1095: Starting in XGBoost 1.3.0, the default evaluation metric used with the objective 'multi:softprob' was changed from 'merror' to 'mlogloss'. Explicitly set eval_metric if you'd like to restore the old behavior.\n",
      "[CV]  subsample=0.6, min_child_weight=1, max_depth=5, gamma=1.5, colsample_bytree=0.8, score=0.938, total=  32.6s\n",
      "[CV] subsample=0.6, min_child_weight=1, max_depth=4, gamma=0.5, colsample_bytree=0.8 \n",
      "[00:37:51] WARNING: ../src/learner.cc:573: \n",
      "Parameters: { \"silent\" } might not be used.\n",
      "\n",
      "  This may not be accurate due to some parameters are only used in language bindings but\n",
      "  passed down to XGBoost core.  Or some parameters are not used but slip through this\n",
      "  verification. Please open an issue if you find above cases.\n",
      "\n"
     ]
    },
    {
     "name": "stderr",
     "output_type": "stream",
     "text": [
      "[Parallel(n_jobs=4)]: Using backend LokyBackend with 4 concurrent workers.\n",
      "[Parallel(n_jobs=4)]: Done  20 out of  20 | elapsed:  3.6min remaining:    0.0s\n",
      "[Parallel(n_jobs=4)]: Done  20 out of  20 | elapsed:  3.6min finished\n",
      "/opt/conda/lib/python3.7/site-packages/xgboost/sklearn.py:1146: UserWarning: The use of label encoder in XGBClassifier is deprecated and will be removed in a future release. To remove this warning, do the following: 1) Pass option use_label_encoder=False when constructing XGBClassifier object; and 2) Encode your labels (y) as integers starting with 0, i.e. 0, 1, 2, ..., [num_class - 1].\n",
      "  warnings.warn(label_encoder_deprecation_msg, UserWarning)\n"
     ]
    },
    {
     "name": "stdout",
     "output_type": "stream",
     "text": [
      "[00:41:25] WARNING: ../src/learner.cc:573: \n",
      "Parameters: { \"silent\" } might not be used.\n",
      "\n",
      "  This may not be accurate due to some parameters are only used in language bindings but\n",
      "  passed down to XGBoost core.  Or some parameters are not used but slip through this\n",
      "  verification. Please open an issue if you find above cases.\n",
      "\n",
      "\n",
      "[00:41:25] WARNING: ../src/learner.cc:1095: Starting in XGBoost 1.3.0, the default evaluation metric used with the objective 'multi:softprob' was changed from 'merror' to 'mlogloss'. Explicitly set eval_metric if you'd like to restore the old behavior.\n"
     ]
    },
    {
     "data": {
      "text/plain": [
       "VotingClassifier(estimators=[('Random Forest', RandomForestClassifier()),\n",
       "                             ('SVC', SVC()),\n",
       "                             ('ْRandom Search',\n",
       "                              RandomizedSearchCV(cv=StratifiedKFold(n_splits=4, random_state=1001, shuffle=True),\n",
       "                                                 estimator=XGBClassifier(base_score=None,\n",
       "                                                                         booster=None,\n",
       "                                                                         colsample_bylevel=None,\n",
       "                                                                         colsample_bynode=None,\n",
       "                                                                         colsample_bytree=None,\n",
       "                                                                         gamma=None,\n",
       "                                                                         gpu_id=None,\n",
       "                                                                         importance_type='gain',\n",
       "                                                                         i...\n",
       "                                                                         reg_alpha=None,\n",
       "                                                                         reg_lambda=None,\n",
       "                                                                         scale_pos_weight=None,\n",
       "                                                                         silent=True,\n",
       "                                                                         subsample=None,\n",
       "                                                                         tree_method=None,\n",
       "                                                                         validate_parameters=None,\n",
       "                                                                         verbosity=None),\n",
       "                                                 n_iter=5, n_jobs=4,\n",
       "                                                 param_distributions={'colsample_bytree': [0.6,\n",
       "                                                                                           0.8,\n",
       "                                                                                           1.0],\n",
       "                                                                      'gamma': [0.5,\n",
       "                                                                                1,\n",
       "                                                                                1.5,\n",
       "                                                                                2,\n",
       "                                                                                5],\n",
       "                                                                      'max_depth': [3,\n",
       "                                                                                    4,\n",
       "                                                                                    5,\n",
       "                                                                                    6],\n",
       "                                                                      'min_child_weight': [1,\n",
       "                                                                                           5,\n",
       "                                                                                           10],\n",
       "                                                                      'subsample': [0.6,\n",
       "                                                                                    0.8,\n",
       "                                                                                    1.0]},\n",
       "                                                 random_state=1001,\n",
       "                                                 scoring='f1_micro',\n",
       "                                                 verbose=3))])"
      ]
     },
     "execution_count": 21,
     "metadata": {},
     "output_type": "execute_result"
    }
   ],
   "source": [
    "vc.fit(X,y)"
   ]
  },
  {
   "cell_type": "code",
   "execution_count": 22,
   "id": "031cf57b",
   "metadata": {
    "execution": {
     "iopub.execute_input": "2021-09-30T00:41:59.493291Z",
     "iopub.status.busy": "2021-09-30T00:41:59.492472Z",
     "iopub.status.idle": "2021-09-30T00:41:59.509037Z",
     "shell.execute_reply": "2021-09-30T00:41:59.508355Z",
     "shell.execute_reply.started": "2021-09-30T00:29:45.912072Z"
    },
    "papermill": {
     "duration": 0.057574,
     "end_time": "2021-09-30T00:41:59.509214",
     "exception": false,
     "start_time": "2021-09-30T00:41:59.451640",
     "status": "completed"
    },
    "tags": []
   },
   "outputs": [
    {
     "data": {
      "text/html": [
       "<div>\n",
       "<style scoped>\n",
       "    .dataframe tbody tr th:only-of-type {\n",
       "        vertical-align: middle;\n",
       "    }\n",
       "\n",
       "    .dataframe tbody tr th {\n",
       "        vertical-align: top;\n",
       "    }\n",
       "\n",
       "    .dataframe thead th {\n",
       "        text-align: right;\n",
       "    }\n",
       "</style>\n",
       "<table border=\"1\" class=\"dataframe\">\n",
       "  <thead>\n",
       "    <tr style=\"text-align: right;\">\n",
       "      <th></th>\n",
       "      <th>Area</th>\n",
       "      <th>AspectRation</th>\n",
       "      <th>Extent</th>\n",
       "      <th>Solidity</th>\n",
       "      <th>roundness</th>\n",
       "      <th>ShapeFactor4</th>\n",
       "    </tr>\n",
       "    <tr>\n",
       "      <th>ID</th>\n",
       "      <th></th>\n",
       "      <th></th>\n",
       "      <th></th>\n",
       "      <th></th>\n",
       "      <th></th>\n",
       "      <th></th>\n",
       "    </tr>\n",
       "  </thead>\n",
       "  <tbody>\n",
       "    <tr>\n",
       "      <th>10834</th>\n",
       "      <td>0.154473</td>\n",
       "      <td>1.599513</td>\n",
       "      <td>-2.638544</td>\n",
       "      <td>-6.305719</td>\n",
       "      <td>-1.346652</td>\n",
       "      <td>-7.477150</td>\n",
       "    </tr>\n",
       "    <tr>\n",
       "      <th>10835</th>\n",
       "      <td>-0.823382</td>\n",
       "      <td>-0.574426</td>\n",
       "      <td>0.357962</td>\n",
       "      <td>0.142754</td>\n",
       "      <td>0.611149</td>\n",
       "      <td>0.667327</td>\n",
       "    </tr>\n",
       "    <tr>\n",
       "      <th>10836</th>\n",
       "      <td>0.053530</td>\n",
       "      <td>-0.888612</td>\n",
       "      <td>0.062835</td>\n",
       "      <td>-1.793040</td>\n",
       "      <td>-0.771590</td>\n",
       "      <td>0.121812</td>\n",
       "    </tr>\n",
       "    <tr>\n",
       "      <th>10837</th>\n",
       "      <td>-0.956924</td>\n",
       "      <td>-0.540199</td>\n",
       "      <td>-0.682977</td>\n",
       "      <td>0.247522</td>\n",
       "      <td>0.998036</td>\n",
       "      <td>0.816097</td>\n",
       "    </tr>\n",
       "    <tr>\n",
       "      <th>10838</th>\n",
       "      <td>3.004427</td>\n",
       "      <td>-0.278990</td>\n",
       "      <td>1.117147</td>\n",
       "      <td>0.024156</td>\n",
       "      <td>-0.091121</td>\n",
       "      <td>-0.761699</td>\n",
       "    </tr>\n",
       "  </tbody>\n",
       "</table>\n",
       "</div>"
      ],
      "text/plain": [
       "           Area  AspectRation    Extent  Solidity  roundness  ShapeFactor4\n",
       "ID                                                                        \n",
       "10834  0.154473      1.599513 -2.638544 -6.305719  -1.346652     -7.477150\n",
       "10835 -0.823382     -0.574426  0.357962  0.142754   0.611149      0.667327\n",
       "10836  0.053530     -0.888612  0.062835 -1.793040  -0.771590      0.121812\n",
       "10837 -0.956924     -0.540199 -0.682977  0.247522   0.998036      0.816097\n",
       "10838  3.004427     -0.278990  1.117147  0.024156  -0.091121     -0.761699"
      ]
     },
     "execution_count": 22,
     "metadata": {},
     "output_type": "execute_result"
    }
   ],
   "source": [
    "X_test = processed_df_test.copy()[low_corr_col]\n",
    "X_test.head()"
   ]
  },
  {
   "cell_type": "code",
   "execution_count": 23,
   "id": "8ecb51ee",
   "metadata": {
    "execution": {
     "iopub.execute_input": "2021-09-30T00:41:59.590960Z",
     "iopub.status.busy": "2021-09-30T00:41:59.589847Z",
     "iopub.status.idle": "2021-09-30T00:42:00.138901Z",
     "shell.execute_reply": "2021-09-30T00:42:00.139438Z",
     "shell.execute_reply.started": "2021-09-30T00:29:45.934208Z"
    },
    "papermill": {
     "duration": 0.594266,
     "end_time": "2021-09-30T00:42:00.139641",
     "exception": false,
     "start_time": "2021-09-30T00:41:59.545375",
     "status": "completed"
    },
    "tags": []
   },
   "outputs": [
    {
     "data": {
      "text/plain": [
       "Text(0.5, 1.0, 'features_correlation')"
      ]
     },
     "execution_count": 23,
     "metadata": {},
     "output_type": "execute_result"
    },
    {
     "data": {
      "image/png": "[encoded data removed]",
      "text/plain": [
       "<Figure size 576x576 with 2 Axes>"
      ]
     },
     "metadata": {
      "needs_background": "light"
     },
     "output_type": "display_data"
    }
   ],
   "source": [
    "plt.figure(figsize=(8,8))\n",
    "sns.heatmap(X_test.corr(),annot=True)\n",
    "plt.title(\"features_correlation\",size=20)"
   ]
  },
  {
   "cell_type": "code",
   "execution_count": 24,
   "id": "c82008b5",
   "metadata": {
    "execution": {
     "iopub.execute_input": "2021-09-30T00:42:00.223763Z",
     "iopub.status.busy": "2021-09-30T00:42:00.222643Z",
     "iopub.status.idle": "2021-09-30T00:42:00.903191Z",
     "shell.execute_reply": "2021-09-30T00:42:00.902575Z",
     "shell.execute_reply.started": "2021-09-30T00:23:24.416761Z"
    },
    "papermill": {
     "duration": 0.725601,
     "end_time": "2021-09-30T00:42:00.903371",
     "exception": false,
     "start_time": "2021-09-30T00:42:00.177770",
     "status": "completed"
    },
    "tags": []
   },
   "outputs": [],
   "source": [
    "predictions = vc.predict(X_test)\n",
    "X_test['ID'] = X_test.index"
   ]
  },
  {
   "cell_type": "code",
   "execution_count": 25,
   "id": "b5332b60",
   "metadata": {
    "execution": {
     "iopub.execute_input": "2021-09-30T00:42:00.989177Z",
     "iopub.status.busy": "2021-09-30T00:42:00.988420Z",
     "iopub.status.idle": "2021-09-30T00:42:01.003290Z",
     "shell.execute_reply": "2021-09-30T00:42:01.002565Z",
     "shell.execute_reply.started": "2021-09-30T00:23:24.623428Z"
    },
    "papermill": {
     "duration": 0.06194,
     "end_time": "2021-09-30T00:42:01.003469",
     "exception": false,
     "start_time": "2021-09-30T00:42:00.941529",
     "status": "completed"
    },
    "tags": []
   },
   "outputs": [
    {
     "name": "stdout",
     "output_type": "stream",
     "text": [
      "success\n"
     ]
    }
   ],
   "source": [
    "output = pd.DataFrame({'ID': X_test.ID, 'y': predictions})\n",
    "output.to_csv('my_submission.csv', index=False)\n",
    "print(\"success\")"
   ]
  },
  {
   "cell_type": "code",
   "execution_count": null,
   "id": "6214038d",
   "metadata": {
    "papermill": {
     "duration": 0.039371,
     "end_time": "2021-09-30T00:42:01.082574",
     "exception": false,
     "start_time": "2021-09-30T00:42:01.043203",
     "status": "completed"
    },
    "tags": []
   },
   "outputs": [],
   "source": []
  }
 ],
 "metadata": {
  "kernelspec": {
   "display_name": "Python 3",
   "language": "python",
   "name": "python3"
  },
  "language_info": {
   "codemirror_mode": {
    "name": "ipython",
    "version": 3
   },
   "file_extension": ".py",
   "mimetype": "text/x-python",
   "name": "python",
   "nbconvert_exporter": "python",
   "pygments_lexer": "ipython3",
   "version": "3.7.10"
  },
  "papermill": {
   "default_parameters": {},
   "duration": 664.124277,
   "end_time": "2021-09-30T00:42:02.868014",
   "environment_variables": {},
   "exception": null,
   "input_path": "__notebook__.ipynb",
   "output_path": "__notebook__.ipynb",
   "parameters": {},
   "start_time": "2021-09-30T00:30:58.743737",
   "version": "2.3.3"
  }
 },
 "nbformat": 4,
 "nbformat_minor": 5
}
